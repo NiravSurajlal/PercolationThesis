{
 "metadata": {
  "language_info": {
   "codemirror_mode": {
    "name": "ipython",
    "version": 3
   },
   "file_extension": ".py",
   "mimetype": "text/x-python",
   "name": "python",
   "nbconvert_exporter": "python",
   "pygments_lexer": "ipython3",
   "version": "3.8.5-final"
  },
  "orig_nbformat": 2,
  "kernelspec": {
   "name": "python3",
   "display_name": "Python 3.8.5 64-bit ('base': conda)",
   "metadata": {
    "interpreter": {
     "hash": "937a9bf7f4d02271b0e84c824f2cfec9d499b9b3c4d4ea54ebae47f399b1cd48"
    }
   }
  }
 },
 "nbformat": 4,
 "nbformat_minor": 2,
 "cells": [
  {
   "source": [
    "# Tensorflow MLP\n",
    "Here we will attempt to design a regression model for the data. First we will get the data from the new file then select which to use. The feature vector will be {b1, a2, frac, RatioTotalArea} and the target will be {eta c}. \n",
    "\n",
    "There are currently 4 options:\n",
    "- entire unscaled dataset: 57841\n",
    "- entire scaled dataset (from unscaled): 57841\n",
    "- limited dataset: 42016\n",
    "- limited and scaled dataset: 42016\n",
    "\n",
    "I will use the limited and scaled dataset to start because I can randomise easily. The data is scaled using the MaxAbsScaler to start.\n",
    "\n",
    "### I do think that we may be loosing data on the 2nd ellipse, so another feature may be necessary. (The info for the other dimension is there, but in the 'RatioTotalArea')."
   ],
   "cell_type": "markdown",
   "metadata": {}
  },
  {
   "cell_type": "code",
   "execution_count": 2,
   "metadata": {},
   "outputs": [],
   "source": [
    "import matplotlib.pyplot as plt\n",
    "import pandas as pd\n",
    "import numpy as np\n",
    "from sklearn.preprocessing import MaxAbsScaler\n",
    "import seaborn as sns\n",
    "sns.set()"
   ]
  },
  {
   "cell_type": "code",
   "execution_count": 3,
   "metadata": {},
   "outputs": [
    {
     "output_type": "execute_result",
     "data": {
      "text/plain": [
       "                  count      mean       std       min       25%       50%  \\\n",
       "b1              42016.0  0.348088  0.328365  0.006000  0.060000  0.200000   \n",
       "a2              42016.0  0.421380  0.332279  0.010000  0.100000  0.400000   \n",
       "RatioTotalArea  42016.0  0.178203  0.185276  0.000197  0.034663  0.106253   \n",
       "frac            42016.0  0.521135  0.318137  0.052632  0.210526  0.526316   \n",
       "eta c           42016.0  0.228514  0.178317  0.004062  0.073706  0.186736   \n",
       "\n",
       "                     75%  max  \n",
       "b1              0.666667  1.0  \n",
       "a2              0.700000  1.0  \n",
       "RatioTotalArea  0.275565  1.0  \n",
       "frac            0.842105  1.0  \n",
       "eta c           0.365193  1.0  "
      ],
      "text/html": "<div>\n<style scoped>\n    .dataframe tbody tr th:only-of-type {\n        vertical-align: middle;\n    }\n\n    .dataframe tbody tr th {\n        vertical-align: top;\n    }\n\n    .dataframe thead th {\n        text-align: right;\n    }\n</style>\n<table border=\"1\" class=\"dataframe\">\n  <thead>\n    <tr style=\"text-align: right;\">\n      <th></th>\n      <th>count</th>\n      <th>mean</th>\n      <th>std</th>\n      <th>min</th>\n      <th>25%</th>\n      <th>50%</th>\n      <th>75%</th>\n      <th>max</th>\n    </tr>\n  </thead>\n  <tbody>\n    <tr>\n      <th>b1</th>\n      <td>42016.0</td>\n      <td>0.348088</td>\n      <td>0.328365</td>\n      <td>0.006000</td>\n      <td>0.060000</td>\n      <td>0.200000</td>\n      <td>0.666667</td>\n      <td>1.0</td>\n    </tr>\n    <tr>\n      <th>a2</th>\n      <td>42016.0</td>\n      <td>0.421380</td>\n      <td>0.332279</td>\n      <td>0.010000</td>\n      <td>0.100000</td>\n      <td>0.400000</td>\n      <td>0.700000</td>\n      <td>1.0</td>\n    </tr>\n    <tr>\n      <th>RatioTotalArea</th>\n      <td>42016.0</td>\n      <td>0.178203</td>\n      <td>0.185276</td>\n      <td>0.000197</td>\n      <td>0.034663</td>\n      <td>0.106253</td>\n      <td>0.275565</td>\n      <td>1.0</td>\n    </tr>\n    <tr>\n      <th>frac</th>\n      <td>42016.0</td>\n      <td>0.521135</td>\n      <td>0.318137</td>\n      <td>0.052632</td>\n      <td>0.210526</td>\n      <td>0.526316</td>\n      <td>0.842105</td>\n      <td>1.0</td>\n    </tr>\n    <tr>\n      <th>eta c</th>\n      <td>42016.0</td>\n      <td>0.228514</td>\n      <td>0.178317</td>\n      <td>0.004062</td>\n      <td>0.073706</td>\n      <td>0.186736</td>\n      <td>0.365193</td>\n      <td>1.0</td>\n    </tr>\n  </tbody>\n</table>\n</div>"
     },
     "metadata": {},
     "execution_count": 3
    }
   ],
   "source": [
    "name = \"LIM_scaled.csv\"\n",
    "dataset = pd.read_csv(name)\n",
    "# data2.describe().transpose()\n",
    "dataset.pop(\"Unnamed: 0\")\n",
    "dataset.describe().transpose()"
   ]
  },
  {
   "cell_type": "code",
   "execution_count": null,
   "metadata": {},
   "outputs": [],
   "source": []
  }
 ]
}
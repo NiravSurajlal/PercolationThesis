{
 "metadata": {
  "language_info": {
   "codemirror_mode": {
    "name": "ipython",
    "version": 3
   },
   "file_extension": ".py",
   "mimetype": "text/x-python",
   "name": "python",
   "nbconvert_exporter": "python",
   "pygments_lexer": "ipython3",
   "version": "3.8.5-final"
  },
  "orig_nbformat": 2,
  "kernelspec": {
   "name": "python3",
   "display_name": "Python 3.8.5 64-bit ('base': conda)",
   "metadata": {
    "interpreter": {
     "hash": "937a9bf7f4d02271b0e84c824f2cfec9d499b9b3c4d4ea54ebae47f399b1cd48"
    }
   }
  }
 },
 "nbformat": 4,
 "nbformat_minor": 2,
 "cells": [
  {
   "source": [
    "# Input =  {r1, r2, b1, a2, RatioTotalArea, frac}\n",
    "Here we will attempt to elucidate ourselves on how these inputs change eta c. RatioTotalArea will always be an output because it is dependant on the others. "
   ],
   "cell_type": "markdown",
   "metadata": {}
  },
  {
   "cell_type": "code",
   "execution_count": null,
   "metadata": {},
   "outputs": [],
   "source": [
    "import matplotlib.pyplot as plt\n",
    "import pandas as pd\n",
    "import numpy as np\n",
    "from sklearn.preprocessing import StandardScaler\n",
    "import seaborn as sns\n",
    "sns.set()"
   ]
  },
  {
   "cell_type": "code",
   "execution_count": null,
   "metadata": {},
   "outputs": [],
   "source": [
    "def import_data(name='HybridEllipsePercolation.txt', sep1=\" \", header1=None, shuffle=True):\n",
    "    data = pd.read_csv(name, sep=sep1, header=header1)\n",
    "    data.columns = [\"r1\", \"2a2\", \"r2\", \"frac\", \"Nc\", \"Nc Std. Dev\", \"eta c\" ]\n",
    "    # data.reset_index(inplace=True)\n",
    "    \n",
    "    if shuffle:\n",
    "        data = data.sample(frac=1).reset_index(drop=True)\n",
    "    return data\n",
    "\n",
    "def single_input_vs_output(dataset, input_column, output_column=\"eta c\", plot=False, output=False):\n",
    "    reduced_dataset = dataset.drop_duplicates(subset=input_column)\n",
    "    # data_range = reduced_dataset[input_column].to_numpy()\n",
    "    if output:\n",
    "        print(\"{col} range is: {rng}    (output is {out})\".format(col=input_column, rng=len(reduced_dataset), out=output_column))\n",
    "\n",
    "    if plot:\n",
    "        ax1 = reduced_dataset.plot.scatter( x=input_column,\n",
    "                        y=output_column,\n",
    "                        c='DarkBlue')\n",
    "        return ax1\n",
    "        # return sns.scatterplot(data=reduced_dataset, x=input_column, y=output_column)\n",
    "    \n",
    "    return reduced_dataset[[input_column, output_column]]\n",
    "\n",
    "def split_data(dataset):\n",
    "    train_dataset = dataset.sample(frac=0.6, random_state=0)\n",
    "    valid_and_test_dataset = dataset.drop(train_dataset.index)\n",
    "    test_dataset = valid_and_test_dataset.sample(frac=0.5, random_state=0)\n",
    "    validation_dataset = valid_and_test_dataset.drop(test_dataset.index)\n",
    "    return train_dataset, test_dataset, validation_dataset\n",
    "\n",
    "def split_features_labels(data, label_column='eta c'):\n",
    "    features = data\n",
    "    labels = data.pop(label_column)\n",
    "    return features, labels"
   ]
  },
  {
   "cell_type": "code",
   "execution_count": null,
   "metadata": {},
   "outputs": [],
   "source": [
    "rawdata = import_data(shuffle=False)\n",
    "dataset = rawdata.copy()\n",
    "\n",
    "# remove irrelevant columns\n",
    "# dataset.pop(\"Nc Std. Dev\")\n",
    "\n",
    "# check for missing values\n",
    "dataset.isna().sum()\n",
    "# drop missing values\n",
    "dataset = dataset.dropna()\n",
    "\n",
    "dataset[\"a1\"]=1/2\n",
    "dataset[\"b1\"]=dataset[\"a1\"]/dataset[\"r1\"]\n",
    "dataset[\"a2\"]=dataset[\"2a2\"]/2\n",
    "dataset[\"b2\"]=dataset[\"a2\"]/dataset[\"r2\"]\n",
    "dataset[\"area1\"]=dataset[\"a1\"]*dataset[\"b1\"]*np.pi\n",
    "dataset[\"area2\"]=dataset[\"a2\"]*dataset[\"b2\"]*np.pi\n",
    "dataset[\"TotalArea\"] = dataset[\"area1\"] + dataset[\"area2\"]\n",
    "dataset[\"RatioTotalArea\"] = dataset[\"area1\"]*(1-dataset[\"frac\"]) + dataset[\"area2\"]*(dataset[\"frac\"])\n",
    "dataset.head()"
   ]
  },
  {
   "cell_type": "code",
   "execution_count": null,
   "metadata": {},
   "outputs": [],
   "source": [
    "r1_range = single_input_vs_output(dataset, \"r1\")\n",
    "r2_range = single_input_vs_output(dataset, \"r2\")\n",
    "frac_range = single_input_vs_output(dataset, \"frac\")\n",
    "a1_range = single_input_vs_output(dataset, \"a1\")\n",
    "b1_range = single_input_vs_output(dataset, \"b1\")\n",
    "a2_range = single_input_vs_output(dataset, \"a2\")\n",
    "b2_range = single_input_vs_output(dataset, \"b2\")\n",
    "_2a2_range = single_input_vs_output(dataset, \"2a2\")"
   ]
  },
  {
   "cell_type": "code",
   "execution_count": null,
   "metadata": {},
   "outputs": [],
   "source": [
    "b1_range.sort_values('b1', inplace=True)\n",
    "a2_range.sort_values('a2', inplace=True)\n",
    "# b2_range.sort_values('b2', inplace=True)\n",
    "\n",
    "print(\"b1 number of vals {}\".format(len(b1_range[\"b1\"])))\n",
    "# print(\"b1 range {}\".format(list(b1_range[\"b1\"])))\n",
    "print(\"a1 number of vals {}\".format(len(a1_range[\"a1\"])))\n",
    "# print(\"a1 range {}\".format(list(b2_range[\"a1\"])))\n",
    "\n",
    "print()\n",
    "\n",
    "print(\"a2 number of vals {}\".format(len(a2_range[\"a2\"])))\n",
    "# print(\"a2 range {}\".format(list(a2_range[\"a2\"])))\n",
    "print(\"b2 number of vals {}\".format(len(b2_range[\"b2\"])))\n",
    "# print(\"b2 range {}\".format(list(b2_range[\"b2\"])))\n",
    "\n",
    "print()\n",
    "\n",
    "print(\"r1 number of vals {}\".format(len(r1_range[\"r1\"])))\n",
    "print(\"r1 range {}\".format(list(r1_range[\"r1\"])))\n",
    "\n",
    "print(\"r2 number of vals {}\".format(len(r2_range[\"r2\"])))\n",
    "print(\"r2 range {}\".format(list(r2_range[\"r2\"])))"
   ]
  },
  {
   "source": [
    "## Checking eta c vs a2 and b1\n",
    "Here we will look at how this effects the other variables and their relationship with eta c."
   ],
   "cell_type": "markdown",
   "metadata": {}
  },
  {
   "cell_type": "code",
   "execution_count": null,
   "metadata": {},
   "outputs": [],
   "source": [
    "# a2_vals = (a2_range['a2'].to_numpy())\n",
    "# # a2_val = a2_vals[0]\n",
    "\n",
    "# fig = plt.figure(figsize=(10,10))\n",
    "# yaxis_label = \"eta c\"\n",
    "# title = \"How eta c varies with a2\" \n",
    "# for a2_val in a2_vals:\n",
    "#     selection_dataset = dataset.copy()\n",
    "#     select_1 = selection_dataset[selection_dataset[\"a2\"]==a2_val]\n",
    "#     plt.scatter(x=np.arange(0,len(select_1)), y=select_1['eta c'], marker='.', alpha=0.2, label=\"a2={v}, {l}\".format(v=a2_val,l=len(select_1)))\n",
    "#     plt.legend()\n",
    "# plt.ylabel(yaxis_label)\n",
    "# plt.title(title)\n",
    "# fig.savefig(\"/media/nirav/34E0-F309/KTH/Thesis/edited_data/exp_dataset/eta_c_vs_a2.png\")"
   ]
  },
  {
   "cell_type": "code",
   "execution_count": null,
   "metadata": {},
   "outputs": [],
   "source": [
    "# b1_range.sort_values('b1', inplace=True)\n",
    "# b1_vals = (b1_range['b1'].to_numpy())[0:20:5]\n",
    "# # a2_val = a2_vals[0]\n",
    "\n",
    "# fig = plt.figure(figsize=(10,10))\n",
    "# yaxis_label = \"eta c\"\n",
    "# title = \"How eta c varies with b1\" \n",
    "# for b1_val in b1_vals:\n",
    "#     selection_dataset = dataset.copy()\n",
    "#     select_1 = selection_dataset[selection_dataset[\"b1\"]==b1_val]\n",
    "#     # select_2 = select_1[select_1['eta c']<0.4]\n",
    "#     b1_str = \"{:.2e}\".format(b1_val)\n",
    "#     plt.scatter(x=np.arange(0,len(select_1)), y=select_1['eta c'], marker='.', alpha=0.9, label=\"b1={v}, {l}\".format(v=b1_str,l=len(select_1)))\n",
    "#     plt.legend()\n",
    "# plt.ylabel(yaxis_label)\n",
    "# plt.title(title)\n",
    "# fig.savefig(\"/media/nirav/34E0-F309/KTH/Thesis/edited_data/exp_dataset/eta_c_vs_b1.png\")"
   ]
  },
  {
   "source": [
    "![eta_c_vs_a2](exp_dataset/eta_c_vs_a2.png)\n",
    "![eta_c_vs_b1](exp_dataset/eta_c_vs_b1.png)\n",
    "\n",
    "\n",
    "You can see from the data that eta c increases with a2. For b1, this is also clear. Both a2 and b1 have well dsitributed values as well. a2 and b1 have more at the lower end because smaller steps are taken for the specific range, even if the number of samples are fairly similar. This gets to asks question, should we leave some out, average them, select from each or randomly select from each range or keep the data as is.  "
   ],
   "cell_type": "markdown",
   "metadata": {}
  },
  {
   "cell_type": "code",
   "execution_count": null,
   "metadata": {},
   "outputs": [],
   "source": [
    "# fig, axs = plt.subplots(ncols=2, figsize=(12,6))\n",
    "# sns.distplot(dataset[\"a2\"], color='red', bins=1000, ax=axs[0])\n",
    "# sns.distplot(dataset[\"b1\"], color='red', bins=1000, ax=axs[1])\n",
    "# fig.savefig(\"/media/nirav/34E0-F309/KTH/Thesis/edited_data/exp_dataset/a2_b1_distr.png\")"
   ]
  },
  {
   "source": [
    "![a2_b1_distr](exp_dataset/a2_b1_distr.png)"
   ],
   "cell_type": "markdown",
   "metadata": {}
  },
  {
   "source": [
    "## Checking eta c vs r1 and r2"
   ],
   "cell_type": "markdown",
   "metadata": {}
  },
  {
   "cell_type": "code",
   "execution_count": null,
   "metadata": {},
   "outputs": [],
   "source": [
    "# r1_vals = (r1_range['r1'].to_numpy())[::-5]\n",
    "# # r1_val = r1_vals[0]\n",
    "\n",
    "# fig = plt.figure(figsize=(10,10))\n",
    "# yaxis_label = \"eta c\"\n",
    "# title = \"How eta c varies with r1\" \n",
    "# for r1_val in r1_vals:\n",
    "#     selection_dataset = dataset.copy()\n",
    "#     select_1 = selection_dataset[selection_dataset[\"r1\"]==r1_val]\n",
    "#     plt.scatter(x=np.arange(0,len(select_1)), y=select_1['eta c'], marker='.', alpha=0.9, label=\"r1={v}, {l}\".format(v=r1_val,l=len(select_1)))\n",
    "#     plt.legend()\n",
    "# plt.ylabel(yaxis_label)\n",
    "# plt.title(title)\n",
    "# fig.savefig(\"/media/nirav/34E0-F309/KTH/Thesis/edited_data/exp_dataset/eta_c_vs_r1.png\")"
   ]
  },
  {
   "cell_type": "code",
   "execution_count": null,
   "metadata": {},
   "outputs": [],
   "source": [
    "# r2_vals = (r2_range['r2'].to_numpy())[1::5]\n",
    "# # r1_val = r1_vals[0]\n",
    "\n",
    "# fig = plt.figure(figsize=(10,10))\n",
    "# yaxis_label = \"eta c\"\n",
    "# title = \"How eta c varies with r2\" \n",
    "# for r2_val in r2_vals:\n",
    "#     selection_dataset = dataset.copy()\n",
    "#     select_1 = selection_dataset[selection_dataset[\"r2\"]==r2_val]\n",
    "#     plt.scatter(x=np.arange(0,len(select_1)), y=select_1['eta c'], marker='.', alpha=0.9, label=\"r2={v}, {l}\".format(v=r2_val,l=len(select_1)))\n",
    "#     plt.legend()\n",
    "# plt.ylabel(yaxis_label)\n",
    "# plt.title(title)\n",
    "# fig.savefig(\"/media/nirav/34E0-F309/KTH/Thesis/edited_data/exp_dataset/eta_c_vs_r2.png\")"
   ]
  },
  {
   "source": [
    "![eta_c_vs_r1](exp_dataset/eta_c_vs_r1.png)\n",
    "![eta_c_vs_r2](exp_dataset/eta_c_vs_r2.png)"
   ],
   "cell_type": "markdown",
   "metadata": {}
  },
  {
   "source": [
    "## Checking eta c vs frac"
   ],
   "cell_type": "markdown",
   "metadata": {}
  },
  {
   "cell_type": "code",
   "execution_count": null,
   "metadata": {},
   "outputs": [],
   "source": [
    "# frac_range.sort_values('frac', inplace=True)\n",
    "# frac_vals = (frac_range['frac'].to_numpy())[2:4]\n",
    "# # r1_val = r1_vals[0]\n",
    "\n",
    "# fig = plt.figure(figsize=(10,10))\n",
    "# yaxis_label = \"eta c\"\n",
    "# title = \"How eta c varies with frac\" \n",
    "# for frac_val in frac_vals:\n",
    "#     selection_dataset = dataset.copy()\n",
    "#     select_1 = selection_dataset[selection_dataset[\"frac\"]==frac_val]\n",
    "#     plt.scatter(x=np.arange(0,len(select_1)), y=select_1['eta c'], marker='.', alpha=0.9, label=\"frac={v}, {l}\".format(v=frac_val,l=len(select_1)))\n",
    "#     plt.legend()\n",
    "# plt.ylabel(yaxis_label)\n",
    "# plt.title(title)\n",
    "# fig.savefig(\"/media/nirav/34E0-F309/KTH/Thesis/edited_data/exp_dataset/eta_c_vs_frac.png\")"
   ]
  },
  {
   "cell_type": "code",
   "execution_count": null,
   "metadata": {},
   "outputs": [],
   "source": [
    "# frac_range.sort_values('frac', inplace=True)\n",
    "# frac_vals = (frac_range['frac'].to_numpy())\n",
    "# selection_dataset = dataset.copy()\n",
    "\n",
    "# fig = plt.figure()\n",
    "# fig, ax = plt.subplots(nrows=2, ncols=3, figsize=(15,10))\n",
    "# yaxis_label = \"eta c\"\n",
    "# title = \"How eta c varies with frac\" \n",
    "# for i in range(len(frac_range)):\n",
    "#     frac_val = frac_vals[i]\n",
    "#     select_1 = selection_dataset[selection_dataset[\"frac\"]==frac_val]\n",
    "#     ax[int(i/6)][int(i/2)-(int(i/6)*3)].scatter(x=np.arange(0,len(select_1)), y=select_1['eta c'], marker='.', alpha=0.4, label=\"frac={v}, {l}\".format(v=frac_val,l=len(select_1)), )\n",
    "#     # plt.legend()\n",
    "# plt.ylabel(yaxis_label)\n",
    "# plt.title(title)\n",
    "# fig.savefig(\"/media/nirav/34E0-F309/KTH/Thesis/edited_data/exp_dataset/eta_c_vs_frac.png\")"
   ]
  },
  {
   "source": [
    "![eta_c_vs_frac](exp_dataset/eta_c_vs_frac.png)\n",
    "\n",
    "You can see that with increasing fraction, the eta c value become more spread. This makes sense, because this means the ratio of small:big ellipses increases. In this experiment, the small ellipse dimensions varied with both the major and minor axis, whereas the large ellipse varied with just one axis. As the output becomes more dependant on the 'small ellipse', the variation increases because, loosely, there are more variables to consider with many more different values. {a1} had just {20} possibile values, while {a2,b2} had {13, 134}."
   ],
   "cell_type": "markdown",
   "metadata": {}
  },
  {
   "source": [
    "## Check RatioTotalArea and frac vs Eta C\n",
    "\n",
    "![RTA_diff_frac](exp_dataset/RTA_diff_frac.png)\n",
    "\n",
    "You can tell that for small fractions, the input-output or RatioTotalArea-EtaC, looks pretty logirithmic. At higher fracs this, however, falls away. Maybe we can try and figure out why by taking frac=0.9 and instead, varying r1 or r2. \n",
    "\n",
    "We can vary for it for r=[1,5,10,100,200,500,1000]"
   ],
   "cell_type": "markdown",
   "metadata": {}
  },
  {
   "cell_type": "code",
   "execution_count": null,
   "metadata": {},
   "outputs": [],
   "source": [
    "# selection_dataset = dataset.copy()\n",
    "# r1_vals = [1,10,100,200,500,1000]\n",
    "# frac_val = 0.9\n",
    "\n",
    "# fig = plt.figure()\n",
    "# fig, ax = plt.subplots(nrows=2, ncols=3, figsize=(15,10))\n",
    "# yaxis_label = \"eta c\"\n",
    "# for i in range(len(r1_vals)):\n",
    "#     r1_val = r1_vals[i]\n",
    "#     title = \"Eta c vs RTA for r1={}\".format(r1_val) \n",
    "#     select_1 = selection_dataset[selection_dataset[\"frac\"]==frac_val]\n",
    "#     select_2 = select_1[select_1[\"r1\"]==r1_val]\n",
    "\n",
    "#     # ax[int(i/6)][int(i/2)-(int(i/6)*3)].scatter(x=select_2['RatioTotalArea'], y=select_2['eta c'], marker='.', alpha=0.4)\n",
    "#     # ax[int(i/6)][int(i/2)-(int(i/6)*3)].set_title(title)\n",
    "    \n",
    "#     ax[int(i/3)][i%3].scatter(x=select_2['RatioTotalArea'], y=select_2['eta c'], marker='.', alpha=0.4)\n",
    "#     ax[int(i/3)][i%3].set_title(title)\n",
    "\n",
    "# xdata = \"RatioTotalArea\"\n",
    "# ydata = \"Eta c\"\n",
    "# plt.ylabel(yaxis_label)\n",
    "# ax[0][0].set_ylabel(ydata)\n",
    "# ax[1][0].set_ylabel(ydata)\n",
    "# ax[1][0].set_xlabel(xdata)\n",
    "# ax[1][1].set_xlabel(xdata)\n",
    "# ax[1][2].set_xlabel(xdata)\n",
    "# fig.savefig(\"/media/nirav/34E0-F309/KTH/Thesis/edited_data/exp_dataset/etac_RCA_r1const.png\")\n",
    "# plt.close()"
   ]
  },
  {
   "cell_type": "code",
   "execution_count": null,
   "metadata": {},
   "outputs": [],
   "source": [
    "# selection_dataset = dataset.copy()\n",
    "# r2_vals = [1,10,100,200,500,1000]\n",
    "# frac_val = 0.9\n",
    "\n",
    "# fig = plt.figure()\n",
    "# fig, ax = plt.subplots(nrows=2, ncols=3, figsize=(15,10))\n",
    "# yaxis_label = \"eta c\"\n",
    "# for i in range(len(r2_vals)):\n",
    "#     r2_val = r2_vals[i]\n",
    "#     title = \"Eta c vs RTA for r2={}\".format(r2_val) \n",
    "#     select_1 = selection_dataset[selection_dataset[\"frac\"]==frac_val]\n",
    "#     select_2 = select_1[select_1[\"r2\"]==r2_val]\n",
    "    \n",
    "#     ax[int(i/3)][i%3].scatter(x=select_2['RatioTotalArea'], y=select_2['eta c'], marker='.', alpha=0.4)\n",
    "#     ax[int(i/3)][i%3].set_title(title)\n",
    "\n",
    "# xdata = \"RatioTotalArea\"\n",
    "# ydata = \"Eta c\"\n",
    "# plt.ylabel(yaxis_label)\n",
    "# ax[0][0].set_ylabel(ydata)\n",
    "# ax[1][0].set_ylabel(ydata)\n",
    "# ax[1][0].set_xlabel(xdata)\n",
    "# ax[1][1].set_xlabel(xdata)\n",
    "# ax[1][2].set_xlabel(xdata)\n",
    "# fig.savefig(\"/media/nirav/34E0-F309/KTH/Thesis/edited_data/exp_dataset/etac_RCA_r2const.png\")\n",
    "# plt.close()"
   ]
  },
  {
   "source": [
    "![etac_RCA_r1const](exp_dataset/etac_RCA_r1const.png)\n",
    "![etac_RCA_r2const](exp_dataset/etac_RCA_r2const.png)\n",
    "\n",
    "Keeping frac constant and plotting eta c vs RatioTotalArea for varying r values show similar variation for the 2, but with more spread for r2. The data shows what is typical for a slightly underdamped system at lower values and overdamped at higher. This at least gives us some way of viewing how r effects the effect of RatioTotalArea on eta c. \n",
    "\n",
    "Another useful thing to notice is that the RatioTotalArea has a couple of 'distinct' values (with some small deviations).\n",
    "\n",
    "However, we may use b1 and a2, so how do they cause changes?"
   ],
   "cell_type": "markdown",
   "metadata": {}
  },
  {
   "cell_type": "code",
   "execution_count": null,
   "metadata": {},
   "outputs": [],
   "source": [
    "# selection_dataset = dataset.copy()\n",
    "# b1s = b1_range['b1'].to_numpy()\n",
    "# b1_vals = [b1s[0], b1s[5], b1s[8], b1s[12], b1s[16], b1s[19] ]\n",
    "# frac_val = 0.9\n",
    "\n",
    "# fig = plt.figure()\n",
    "# fig, ax = plt.subplots(nrows=2, ncols=3, figsize=(15,10))\n",
    "# yaxis_label = \"eta c\"\n",
    "# for i in range(len(b1_vals)):\n",
    "#     b1_val = b1_vals[i]\n",
    "#     title = \"Eta c vs RTA for b1={}\".format(b1_val) \n",
    "#     select_1 = selection_dataset[selection_dataset[\"frac\"]==frac_val]\n",
    "#     select_2 = select_1[select_1[\"b1\"]==b1_val]\n",
    "    \n",
    "#     ax[int(i/3)][i%3].scatter(x=select_2['RatioTotalArea'], y=select_2['eta c'], marker='.', alpha=0.4)\n",
    "#     ax[int(i/3)][i%3].set_title(title)\n",
    "\n",
    "# xdata = \"RatioTotalArea\"\n",
    "# ydata = \"Eta c\"\n",
    "# plt.ylabel(yaxis_label)\n",
    "# ax[0][0].set_ylabel(ydata)\n",
    "# ax[1][0].set_ylabel(ydata)\n",
    "# ax[1][0].set_xlabel(xdata)\n",
    "# ax[1][1].set_xlabel(xdata)\n",
    "# ax[1][2].set_xlabel(xdata)\n",
    "# fig.savefig(\"/media/nirav/34E0-F309/KTH/Thesis/edited_data/exp_dataset/etac_RCA_b1const.png\")\n",
    "# plt.close()"
   ]
  },
  {
   "cell_type": "code",
   "execution_count": null,
   "metadata": {},
   "outputs": [],
   "source": [
    "# selection_dataset = dataset.copy()\n",
    "# a2s = a2_range['a2'].to_numpy()\n",
    "# a2_vals = [a2s[0], a2s[4], a2s[6], a2s[8], a2s[10], a2s[12] ]\n",
    "# frac_val = 0.9\n",
    "\n",
    "# fig = plt.figure()\n",
    "# fig, ax = plt.subplots(nrows=2, ncols=3, figsize=(15,10))\n",
    "# yaxis_label = \"eta c\"\n",
    "# for i in range(len(b1_vals)):\n",
    "#     a2_val = a2_vals[i]\n",
    "#     title = \"Eta c vs RTA for a2={}\".format(a2_val) \n",
    "#     select_1 = selection_dataset[selection_dataset[\"frac\"]==frac_val]\n",
    "#     select_2 = select_1[select_1[\"a2\"]==a2_val]\n",
    "    \n",
    "#     ax[int(i/3)][i%3].scatter(x=select_2['RatioTotalArea'], y=select_2['eta c'], marker='.', alpha=0.4)\n",
    "#     ax[int(i/3)][i%3].set_title(title)\n",
    "\n",
    "# xdata = \"RatioTotalArea\"\n",
    "# ydata = \"Eta c\"\n",
    "# plt.ylabel(yaxis_label)\n",
    "# ax[0][0].set_ylabel(ydata)\n",
    "# ax[1][0].set_ylabel(ydata)\n",
    "# ax[1][0].set_xlabel(xdata)\n",
    "# ax[1][1].set_xlabel(xdata)\n",
    "# ax[1][2].set_xlabel(xdata)\n",
    "# fig.savefig(\"/media/nirav/34E0-F309/KTH/Thesis/edited_data/exp_dataset/etac_RCA_a2const.png\")\n",
    "# plt.close()"
   ]
  },
  {
   "source": [
    "![etac_RCA_b1const](exp_dataset/etac_RCA_b1const.png)\n",
    "![etac_RCA_a2const](exp_dataset/etac_RCA_a2const.png)\n",
    "\n",
    "b1 shows similar plots to r1, which was expected, as r1 is inversely proportional to b1. a2, however, is different. a2 shows logirithmic curves that would have to only be learnt for varying fractions, with simpler approximations for the subset of a chosen fraction. This is interesting (and the same for 2a2). "
   ],
   "cell_type": "markdown",
   "metadata": {}
  },
  {
   "source": [
    "## How things Change and Standardizing\n",
    "Here we will look at when inputs changed. This will hopefully provide some clarity to the changes in eta c?"
   ],
   "cell_type": "markdown",
   "metadata": {}
  },
  {
   "cell_type": "code",
   "execution_count": null,
   "metadata": {},
   "outputs": [],
   "source": [
    "selection_dataset = dataset.copy()\n",
    "\n",
    "# scale the data\n",
    "selection_dataset['r1'] = StandardScaler().fit_transform(selection_dataset['r1'].values.reshape(-1,1))\n",
    "selection_dataset['r2'] = StandardScaler().fit_transform(selection_dataset['r2'].values.reshape(-1,1))\n",
    "selection_dataset['frac'] = StandardScaler().fit_transform(selection_dataset['frac'].values.reshape(-1,1))\n",
    "selection_dataset['2a2'] = StandardScaler().fit_transform(selection_dataset['2a2'].values.reshape(-1,1))\n",
    "selection_dataset['eta c'] = StandardScaler().fit_transform(selection_dataset['eta c'].values.reshape(-1,1))\n",
    "selection_dataset['Nc'] = StandardScaler().fit_transform(selection_dataset['Nc'].values.reshape(-1,1))\n",
    "\n",
    "#account for added features\n",
    "selection_dataset['a1'] = StandardScaler().fit_transform(selection_dataset['a1'].values.reshape(-1,1))\n",
    "selection_dataset['a2'] = StandardScaler().fit_transform(selection_dataset['a2'].values.reshape(-1,1))\n",
    "selection_dataset['b1'] = StandardScaler().fit_transform(selection_dataset['b1'].values.reshape(-1,1))\n",
    "selection_dataset['b2'] = StandardScaler().fit_transform(selection_dataset['b2'].values.reshape(-1,1))\n",
    "selection_dataset['area1'] = StandardScaler().fit_transform(selection_dataset['area1'].values.reshape(-1,1))\n",
    "selection_dataset['area2'] = StandardScaler().fit_transform(selection_dataset['area2'].values.reshape(-1,1))\n",
    "selection_dataset[\"TotalArea\"] = StandardScaler().fit_transform(selection_dataset['TotalArea'].values.reshape(-1,1))\n",
    "selection_dataset[\"RatioTotalArea\"] = StandardScaler().fit_transform(selection_dataset['RatioTotalArea'].values.reshape(-1,1))"
   ]
  },
  {
   "cell_type": "code",
   "execution_count": null,
   "metadata": {},
   "outputs": [],
   "source": [
    "# sel = \"r1\"\n",
    "\n",
    "# fig = plt.figure()\n",
    "# fig, ax = plt.subplots(figsize=(15,10))\n",
    "\n",
    "# y_data = (selection_dataset[sel].to_numpy())[::2]\n",
    "# ax.scatter(x=np.arange(len(y_data)), y=y_data, label=\"{}\".format(sel))\n",
    "\n",
    "# y_data = (selection_dataset[\"eta c\"].to_numpy())[::2]\n",
    "# ax.scatter(x=np.arange(len(y_data)), y=y_data, alpha=0.2, label=\"eta c\")\n",
    "\n",
    "# ax.legend()\n",
    "# ax.set_title(\"Eta c and {}\".format(sel))\n",
    "# fig.savefig(\"/media/nirav/34E0-F309/KTH/Thesis/edited_data/exp_dataset/etac_and_{}.png\".format(sel))\n",
    "# plt.close()\n",
    "\n",
    "#_______________________________________________________________________________________________________________________________________________________________________________________________________________________\n",
    "# sel = \"r2\"\n",
    "\n",
    "# fig = plt.figure()\n",
    "# fig, ax = plt.subplots(figsize=(15,10))\n",
    "\n",
    "# y_data = (selection_dataset[sel].to_numpy())[::2]\n",
    "# ax.scatter(x=np.arange(len(y_data)), y=y_data, label=\"{}\".format(sel))\n",
    "\n",
    "# y_data = (selection_dataset[\"eta c\"].to_numpy())[::2]\n",
    "# ax.scatter(x=np.arange(len(y_data)), y=y_data, alpha=0.2, label=\"eta c\")\n",
    "\n",
    "# ax.legend()\n",
    "# ax.set_title(\"Eta c and {}\".format(sel))\n",
    "# fig.savefig(\"/media/nirav/34E0-F309/KTH/Thesis/edited_data/exp_dataset/etac_and_{}.png\".format(sel))\n",
    "# plt.close()\n",
    "\n",
    "#_______________________________________________________________________________________________________________________________________________________________________________________________________________________\n",
    "# sel = \"frac\"\n",
    "\n",
    "# fig = plt.figure()\n",
    "# fig, ax = plt.subplots(figsize=(15,10))\n",
    "\n",
    "# y_data = (selection_dataset[sel].to_numpy())[::2]\n",
    "# ax.scatter(x=np.arange(len(y_data)), y=y_data, label=\"{}\".format(sel))\n",
    "\n",
    "# y_data = (selection_dataset[\"eta c\"].to_numpy())[::2]\n",
    "# ax.scatter(x=np.arange(len(y_data)), y=y_data, alpha=0.2, label=\"eta c\")\n",
    "\n",
    "# ax.legend()\n",
    "# ax.set_title(\"Eta c and {}\".format(sel))\n",
    "# fig.savefig(\"/media/nirav/34E0-F309/KTH/Thesis/edited_data/exp_dataset/etac_and_{}.png\".format(sel))\n",
    "# plt.close()\n",
    "\n",
    "#_______________________________________________________________________________________________________________________________________________________________________________________________________________________\n",
    "# sel = \"a2\"\n",
    "\n",
    "# fig = plt.figure()\n",
    "# fig, ax = plt.subplots(figsize=(15,10))\n",
    "\n",
    "# y_data = (selection_dataset[sel].to_numpy())[::2]\n",
    "# ax.scatter(x=np.arange(len(y_data)), y=y_data, label=\"{}\".format(sel))\n",
    "\n",
    "# y_data = (selection_dataset[\"eta c\"].to_numpy())[::2]\n",
    "# ax.scatter(x=np.arange(len(y_data)), y=y_data, alpha=0.2, label=\"eta c\")\n",
    "\n",
    "# ax.legend()\n",
    "# ax.set_title(\"Eta c and {}\".format(sel))\n",
    "# fig.savefig(\"/media/nirav/34E0-F309/KTH/Thesis/edited_data/exp_dataset/etac_and_{}.png\".format(sel))\n",
    "# plt.close()\n",
    "\n",
    "#_______________________________________________________________________________________________________________________________________________________________________________________________________________________\n",
    "# sel = \"b1\"\n",
    "\n",
    "# fig = plt.figure()\n",
    "# fig, ax = plt.subplots(figsize=(15,10))\n",
    "\n",
    "# y_data = (selection_dataset[sel].to_numpy())[::2]\n",
    "# ax.scatter(x=np.arange(len(y_data)), y=y_data, label=\"{}\".format(sel))\n",
    "\n",
    "# y_data = (selection_dataset[\"eta c\"].to_numpy())[::2]\n",
    "# ax.scatter(x=np.arange(len(y_data)), y=y_data, alpha=0.2, label=\"eta c\")\n",
    "\n",
    "# ax.legend()\n",
    "# ax.set_title(\"Eta c and {}\".format(sel))\n",
    "# fig.savefig(\"/media/nirav/34E0-F309/KTH/Thesis/edited_data/exp_dataset/etac_and_{}.png\".format(sel))\n",
    "# plt.close()\n",
    "\n",
    "#_______________________________________________________________________________________________________________________________________________________________________________________________________________________\n",
    "# sel = \"b2\"\n",
    "\n",
    "# fig = plt.figure()\n",
    "# fig, ax = plt.subplots(figsize=(15,10))\n",
    "\n",
    "# y_data = (selection_dataset[sel].to_numpy())[::2]\n",
    "# ax.scatter(x=np.arange(len(y_data)), y=y_data, label=\"{}\".format(sel))\n",
    "\n",
    "# y_data = (selection_dataset[\"eta c\"].to_numpy())[::2]\n",
    "# ax.scatter(x=np.arange(len(y_data)), y=y_data, alpha=0.2, label=\"eta c\")\n",
    "\n",
    "# ax.legend()\n",
    "# ax.set_title(\"Eta c and {}\".format(sel))\n",
    "# fig.savefig(\"/media/nirav/34E0-F309/KTH/Thesis/edited_data/exp_dataset/etac_and_{}.png\".format(sel))\n",
    "# plt.close()\n",
    "\n",
    "#_______________________________________________________________________________________________________________________________________________________________________________________________________________________\n",
    "# sel = \"RatioTotalArea\"\n",
    "\n",
    "# fig = plt.figure()\n",
    "# fig, ax = plt.subplots(figsize=(15,10))\n",
    "\n",
    "# y_data = (selection_dataset[sel].to_numpy())[::2]\n",
    "# ax.scatter(x=np.arange(len(y_data)), y=y_data, label=\"{}\".format(sel))\n",
    "\n",
    "# y_data = (selection_dataset[\"eta c\"].to_numpy())[::2]\n",
    "# ax.scatter(x=np.arange(len(y_data)), y=y_data, alpha=0.2, label=\"eta c\")\n",
    "\n",
    "# ax.legend()\n",
    "# ax.set_title(\"Eta c and {}\".format(sel))\n",
    "# fig.savefig(\"/media/nirav/34E0-F309/KTH/Thesis/edited_data/exp_dataset/etac_and_{}.png\".format(sel))\n",
    "# plt.close()"
   ]
  },
  {
   "source": [
    "These could have been inferred by the correlation and earlier plots, but it was nice to visualise. \n",
    "\n",
    "![etac_and_r1](exp_dataset/etac_and_r1.png)\n",
    "![etac_and_r2](exp_dataset/etac_and_r2.png)\n",
    "![etac_and_frac](exp_dataset/etac_and_frac.png)\n",
    "![etac_and_a2](exp_dataset/etac_and_a2.png)\n",
    "![etac_and_b2](exp_dataset/etac_and_b2.png)\n",
    "![etac_and_b1](exp_dataset/etac_and_b1.png)\n"
   ],
   "cell_type": "markdown",
   "metadata": {}
  },
  {
   "source": [
    "## Check b1 and RatioTotalArea distr\n",
    "\n",
    "Here we will check the distributions for the normalized b1 and RatioTotalArea. "
   ],
   "cell_type": "markdown",
   "metadata": {}
  },
  {
   "cell_type": "code",
   "execution_count": null,
   "metadata": {},
   "outputs": [],
   "source": [
    "# fig = plt.figure()\n",
    "# fig, axes = plt.subplots(nrows=2, ncols=2, figsize=(12,12))\n",
    "\n",
    "# sns.distplot(selection_dataset[\"b1\"], kde=True, color='red', bins=1000, ax=axes[0][0])\n",
    "# axes[0][0].set_title(\"Scaled b1\")\n",
    "# sns.distplot(selection_dataset[\"RatioTotalArea\"], kde=True, color='red', bins=1000, ax=axes[0][1])\n",
    "# axes[0][1].set_title(\"Scaled RTA\")\n",
    "# sns.distplot(dataset[\"b1\"], kde=True, color='red', bins=1000, ax=axes[1][0])\n",
    "# axes[1][0].set_title(\"Unscaled b1\")\n",
    "# sns.distplot(dataset[\"RatioTotalArea\"], kde=True, color='red', bins=1000, ax=axes[1][1])\n",
    "# axes[1][1].set_title(\"Unscaled RTA\")\n",
    "\n",
    "# fig.savefig(\"/media/nirav/34E0-F309/KTH/Thesis/edited_data/exp_dataset/b1_RTA_distr.png\")\n",
    "# plt.close()"
   ]
  },
  {
   "source": [
    "![b1_RTA_distr](exp_dataset/b1_RTA_distr.png)\n",
    "\n",
    "You can see here, that using the sklearn StandardScaler is not advised for b1 and RTA. From the previous work, scaling frac and a2 is good especially if we are using r1 and r2, because I think r1 and r2 need to be scaled to reduce the impact of the much larger r values. However, if {a2, b1, RatioTotalArea, frac} are used, scaling is not necessary as all of the values are: 0<x<1.\n",
    "\n",
    "We can also limit the dataset to the 42016 values where b1<0.1 and RatioTotalArea<0.2."
   ],
   "cell_type": "markdown",
   "metadata": {}
  },
  {
   "cell_type": "code",
   "execution_count": null,
   "metadata": {},
   "outputs": [],
   "source": [
    "lim_dataset = dataset.copy()\n",
    "\n",
    "lim_dataset = lim_dataset[ (lim_dataset[\"b1\"]<0.1) & (lim_dataset[\"RatioTotalArea\"]<0.2) ]\n",
    "lim_dataset.describe().transpose()"
   ]
  },
  {
   "cell_type": "code",
   "execution_count": null,
   "metadata": {},
   "outputs": [],
   "source": [
    "# fig = plt.figure()\n",
    "# fig, axes = plt.subplots(nrows=2, ncols=2, figsize=(12,12))\n",
    "\n",
    "# sns.distplot(lim_dataset[\"b1\"], kde=True, color='red', bins=100, ax=axes[0][0])\n",
    "# axes[0][0].set_title(\"b1\")\n",
    "# sns.distplot(lim_dataset[\"RatioTotalArea\"], kde=True, color='red', bins=1000, ax=axes[0][1])\n",
    "# axes[0][1].set_title(\"RatioTotalArea\")\n",
    "# sns.distplot(lim_dataset[\"a2\"], kde=True, color='red', bins=100, ax=axes[1][0])\n",
    "# axes[1][0].set_title(\"a2\")\n",
    "# sns.distplot(lim_dataset[\"frac\"], kde=True, color='red', bins=100, ax=axes[1][1])\n",
    "# axes[1][1].set_title(\"frac\")\n",
    "\n",
    "# fig.savefig(\"/media/nirav/34E0-F309/KTH/Thesis/edited_data/exp_dataset/allunscaleddistr.png\")\n",
    "# plt.close()"
   ]
  },
  {
   "source": [
    "![allunscaleddistr](exp_dataset/allunscaleddistr.png)\n",
    "\n",
    "However, doing this, we will need to scale the data. "
   ],
   "cell_type": "markdown",
   "metadata": {}
  },
  {
   "cell_type": "code",
   "execution_count": null,
   "metadata": {},
   "outputs": [],
   "source": [
    "scaled_dataset = lim_dataset.copy()\n",
    "\n",
    "scaled_dataset['b1'] = StandardScaler().fit_transform(lim_dataset['b1'].values.reshape(-1,1))\n",
    "scaled_dataset['a2'] = StandardScaler().fit_transform(lim_dataset['a2'].values.reshape(-1,1))\n",
    "scaled_dataset['RatioTotalArea'] = StandardScaler().fit_transform(lim_dataset['RatioTotalArea'].values.reshape(-1,1))\n",
    "scaled_dataset['frac'] = StandardScaler().fit_transform(lim_dataset['frac'].values.reshape(-1,1))\n",
    "scaled_dataset['eta c'] = StandardScaler().fit_transform(lim_dataset['eta c'].values.reshape(-1,1))\n"
   ]
  },
  {
   "cell_type": "code",
   "execution_count": null,
   "metadata": {},
   "outputs": [],
   "source": [
    "# fig = plt.figure()\n",
    "# fig, axes = plt.subplots(nrows=2, ncols=2, figsize=(12,12))\n",
    "\n",
    "# sns.distplot(scaled_dataset[\"b1\"], kde=True, color='red', bins=100, ax=axes[0][0])\n",
    "# axes[0][0].set_title(\"b1\")\n",
    "# sns.distplot(scaled_dataset[\"RatioTotalArea\"], kde=True, color='red', bins=1000, ax=axes[0][1])\n",
    "# axes[0][1].set_title(\"RatioTotalArea\")\n",
    "# sns.distplot(scaled_dataset[\"a2\"], kde=True, color='red', bins=100, ax=axes[1][0])\n",
    "# axes[1][0].set_title(\"a2\")\n",
    "# sns.distplot(scaled_dataset[\"frac\"], kde=True, color='red', bins=100, ax=axes[1][1])\n",
    "# axes[1][1].set_title(\"frac\")\n",
    "\n",
    "# fig.savefig(\"/media/nirav/34E0-F309/KTH/Thesis/edited_data/exp_dataset/allscaleddistr.png\")\n",
    "# plt.close()"
   ]
  },
  {
   "source": [
    "![allscaleddistr](exp_dataset/allscaleddistr.png)"
   ],
   "cell_type": "markdown",
   "metadata": {}
  },
  {
   "cell_type": "code",
   "execution_count": null,
   "metadata": {},
   "outputs": [],
   "source": [
    "fin_ds = dataset[[\"b1\",\"a2\",\"RatioTotalArea\",\"frac\", \"eta c\"]]\n",
    "fin_us_ds = lim_dataset[[\"b1\",\"a2\",\"RatioTotalArea\",\"frac\", \"eta c\"]]\n",
    "fin_s_ds = scaled_dataset[[\"b1\",\"a2\",\"RatioTotalArea\",\"frac\", \"eta c\"]]\n",
    "\n",
    "print(fin_ds.tail())\n",
    "print(\"Length:\", len(fin_ds))\n",
    "print()\n",
    "print(fin_us_ds.tail())\n",
    "print(\"Length:\", len(fin_us_ds))\n",
    "print()\n",
    "print(fin_s_ds.tail())\n",
    "print(\"Length:\", len(fin_s_ds))"
   ]
  },
  {
   "cell_type": "code",
   "execution_count": null,
   "metadata": {},
   "outputs": [],
   "source": [
    "fin_ds.to_csv(\"data.csv\")\n",
    "fin_us_ds.to_csv(\"LIM_unscaled.csv\")\n",
    "fin_s_ds.to_csv(\"LIM_scaled.csv\")"
   ]
  },
  {
   "source": [
    "## My Choice\n",
    "I think conceptually it was easier to use b1 and a2, but r1 and r2 give the same patterns to learn as b1 and a2. However, the algorithim may find it easier to use b1 and a2 instead because they both show positive correlation. \n",
    "\n",
    "\n",
    "            r1          r2\t        2a2         frac\t    b1\t        a2\t        RatioTotalArea\n",
    "eta c\t-0.372151\t0.019714\t-1.167498e-01\t0.047311\t1.348565\t0.009857\t0.762428\n"
   ],
   "cell_type": "markdown",
   "metadata": {}
  },
  {
   "cell_type": "code",
   "execution_count": null,
   "metadata": {},
   "outputs": [],
   "source": [
    "fig = sns.figure()"
   ]
  },
  {
   "cell_type": "code",
   "execution_count": null,
   "metadata": {},
   "outputs": [],
   "source": []
  }
 ]
}
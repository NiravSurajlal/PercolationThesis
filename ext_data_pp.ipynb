{
 "metadata": {
  "language_info": {
   "codemirror_mode": {
    "name": "ipython",
    "version": 3
   },
   "file_extension": ".py",
   "mimetype": "text/x-python",
   "name": "python",
   "nbconvert_exporter": "python",
   "pygments_lexer": "ipython3",
   "version": "3.8.5-final"
  },
  "orig_nbformat": 2,
  "kernelspec": {
   "name": "python3",
   "display_name": "Python 3.8.5 64-bit ('anaconda3': virtualenv)",
   "metadata": {
    "interpreter": {
     "hash": "937a9bf7f4d02271b0e84c824f2cfec9d499b9b3c4d4ea54ebae47f399b1cd48"
    }
   }
  }
 },
 "nbformat": 4,
 "nbformat_minor": 2,
 "cells": [
  {
   "source": [
    "# Input =  {r1, r2, b1, a2, RatioTotalArea, frac}\n",
    "Here we will attempt to elucidate ourselves on how these inputs change eta c. RatioTotalArea will always be an output because it is dependant on the others. "
   ],
   "cell_type": "markdown",
   "metadata": {}
  },
  {
   "cell_type": "code",
   "execution_count": null,
   "metadata": {},
   "outputs": [],
   "source": [
    "import matplotlib.pyplot as plt\n",
    "import pandas as pd\n",
    "import numpy as np\n",
    "import seaborn as sns\n",
    "sns.set()"
   ]
  },
  {
   "cell_type": "code",
   "execution_count": null,
   "metadata": {},
   "outputs": [],
   "source": [
    "def import_data(name='HybridEllipsePercolation.txt', sep1=\" \", header1=None, shuffle=True):\n",
    "    data = pd.read_csv(name, sep=sep1, header=header1)\n",
    "    data.columns = [\"r1\", \"2a2\", \"r2\", \"frac\", \"Nc\", \"Nc Std. Dev\", \"eta c\" ]\n",
    "    # data.reset_index(inplace=True)\n",
    "    \n",
    "    if shuffle:\n",
    "        data = data.sample(frac=1).reset_index(drop=True)\n",
    "    return data\n",
    "\n",
    "def single_input_vs_output(dataset, input_column, output_column=\"eta c\", plot=False, output=False):\n",
    "    reduced_dataset = dataset.drop_duplicates(subset=input_column)\n",
    "    # data_range = reduced_dataset[input_column].to_numpy()\n",
    "    if output:\n",
    "        print(\"{col} range is: {rng}    (output is {out})\".format(col=input_column, rng=len(reduced_dataset), out=output_column))\n",
    "\n",
    "    if plot:\n",
    "        ax1 = reduced_dataset.plot.scatter( x=input_column,\n",
    "                        y=output_column,\n",
    "                        c='DarkBlue')\n",
    "        return ax1\n",
    "        # return sns.scatterplot(data=reduced_dataset, x=input_column, y=output_column)\n",
    "    \n",
    "    return reduced_dataset[[input_column, output_column]]\n",
    "\n",
    "def split_data(dataset):\n",
    "    train_dataset = dataset.sample(frac=0.6, random_state=0)\n",
    "    valid_and_test_dataset = dataset.drop(train_dataset.index)\n",
    "    test_dataset = valid_and_test_dataset.sample(frac=0.5, random_state=0)\n",
    "    validation_dataset = valid_and_test_dataset.drop(test_dataset.index)\n",
    "    return train_dataset, test_dataset, validation_dataset\n",
    "\n",
    "def split_features_labels(data, label_column='eta c'):\n",
    "    features = data\n",
    "    labels = data.pop(label_column)\n",
    "    return features, labels"
   ]
  },
  {
   "cell_type": "code",
   "execution_count": null,
   "metadata": {},
   "outputs": [],
   "source": [
    "rawdata = import_data(shuffle=False)\n",
    "dataset = rawdata.copy()\n",
    "\n",
    "# remove irrelevant columns\n",
    "# dataset.pop(\"Nc Std. Dev\")\n",
    "\n",
    "# check for missing values\n",
    "dataset.isna().sum()\n",
    "# drop missing values\n",
    "dataset = dataset.dropna()\n",
    "\n",
    "dataset[\"a1\"]=1/2\n",
    "dataset[\"b1\"]=dataset[\"a1\"]/dataset[\"r1\"]\n",
    "dataset[\"a2\"]=dataset[\"2a2\"]/2\n",
    "dataset[\"b2\"]=dataset[\"a2\"]/dataset[\"r2\"]\n",
    "dataset[\"area1\"]=dataset[\"a1\"]*dataset[\"b1\"]*np.pi\n",
    "dataset[\"area2\"]=dataset[\"a2\"]*dataset[\"b2\"]*np.pi\n",
    "dataset[\"TotalArea\"] = dataset[\"area1\"] + dataset[\"area2\"]\n",
    "dataset[\"RatioTotalArea\"] = dataset[\"area1\"]*(1-dataset[\"frac\"]) + dataset[\"area2\"]*(dataset[\"frac\"])\n",
    "dataset.head()"
   ]
  },
  {
   "cell_type": "code",
   "execution_count": null,
   "metadata": {},
   "outputs": [],
   "source": [
    "r1_range = single_input_vs_output(dataset, \"r1\")\n",
    "r2_range = single_input_vs_output(dataset, \"r2\")\n",
    "frac_range = single_input_vs_output(dataset, \"frac\")\n",
    "a1_range = single_input_vs_output(dataset, \"a1\")\n",
    "b1_range = single_input_vs_output(dataset, \"b1\")\n",
    "a2_range = single_input_vs_output(dataset, \"a2\")\n",
    "b2_range = single_input_vs_output(dataset, \"b2\")\n",
    "_2a2_range = single_input_vs_output(dataset, \"2a2\")"
   ]
  },
  {
   "cell_type": "code",
   "execution_count": null,
   "metadata": {},
   "outputs": [],
   "source": [
    "b1_range.sort_values('b1', inplace=True)\n",
    "a2_range.sort_values('a2', inplace=True)\n",
    "# b2_range.sort_values('b2', inplace=True)\n",
    "\n",
    "print(\"b1 number of vals {}\".format(len(b1_range[\"b1\"])))\n",
    "print(\"b1 range {}\".format(list(b1_range[\"b1\"])))\n",
    "\n",
    "# print(\"b2 number of vals {}\".format(len(b2_range[\"b2\"])))\n",
    "# print(\"b2 range {}\".format(list(b2_range[\"b2\"])))\n",
    "\n",
    "print(\"a2 number of vals {}\".format(len(a2_range[\"a2\"])))\n",
    "print(\"a2 range {}\".format(list(a2_range[\"a2\"])))\n",
    "\n",
    "print(\"r1 number of vals {}\".format(len(r1_range[\"r1\"])))\n",
    "print(\"r1 range {}\".format(list(r1_range[\"r1\"])))\n",
    "\n",
    "print(\"r2 number of vals {}\".format(len(r2_range[\"r2\"])))\n",
    "print(\"r2 range {}\".format(list(r2_range[\"r2\"])))"
   ]
  },
  {
   "source": [
    "## Checking eta c vs a2 and b1\n",
    "Here we will look at how this effects the other variables and their relationship with eta c."
   ],
   "cell_type": "markdown",
   "metadata": {}
  },
  {
   "cell_type": "code",
   "execution_count": null,
   "metadata": {},
   "outputs": [],
   "source": [
    "# a2_vals = (a2_range['a2'].to_numpy())\n",
    "# # a2_val = a2_vals[0]\n",
    "\n",
    "# fig = plt.figure(figsize=(10,10))\n",
    "# yaxis_label = \"eta c\"\n",
    "# title = \"How eta c varies with a2\" \n",
    "# for a2_val in a2_vals:\n",
    "#     selection_dataset = dataset.copy()\n",
    "#     select_1 = selection_dataset[selection_dataset[\"a2\"]==a2_val]\n",
    "#     plt.scatter(x=np.arange(0,len(select_1)), y=select_1['eta c'], marker='.', alpha=0.2, label=\"a2={v}, {l}\".format(v=a2_val,l=len(select_1)))\n",
    "#     plt.legend()\n",
    "# plt.ylabel(yaxis_label)\n",
    "# plt.title(title)\n",
    "# fig.savefig(\"/media/nirav/34E0-F309/KTH/Thesis/edited_data/exp_dataset/eta_c_vs_a2.png\")"
   ]
  },
  {
   "cell_type": "code",
   "execution_count": null,
   "metadata": {},
   "outputs": [],
   "source": [
    "# b1_range.sort_values('b1', inplace=True)\n",
    "# b1_vals = (b1_range['b1'].to_numpy())[0:20:5]\n",
    "# # a2_val = a2_vals[0]\n",
    "\n",
    "# fig = plt.figure(figsize=(10,10))\n",
    "# yaxis_label = \"eta c\"\n",
    "# title = \"How eta c varies with b1\" \n",
    "# for b1_val in b1_vals:\n",
    "#     selection_dataset = dataset.copy()\n",
    "#     select_1 = selection_dataset[selection_dataset[\"b1\"]==b1_val]\n",
    "#     # select_2 = select_1[select_1['eta c']<0.4]\n",
    "#     b1_str = \"{:.2e}\".format(b1_val)\n",
    "#     plt.scatter(x=np.arange(0,len(select_1)), y=select_1['eta c'], marker='.', alpha=0.9, label=\"b1={v}, {l}\".format(v=b1_str,l=len(select_1)))\n",
    "#     plt.legend()\n",
    "# plt.ylabel(yaxis_label)\n",
    "# plt.title(title)\n",
    "# fig.savefig(\"/media/nirav/34E0-F309/KTH/Thesis/edited_data/exp_dataset/eta_c_vs_b1.png\")"
   ]
  },
  {
   "source": [
    "You can see from the data that eta c increases with a2. For b1, this is also clear. Both a2 and b1 have well dsitributed values as well. a2 and b1 have more at the lower end because smaller steps are taken for the specific range, even if the number of samples are fairly similar. This gets to asks question, should we leave some out, average them, select from each or randomly select from each range or keep the data as is.  "
   ],
   "cell_type": "markdown",
   "metadata": {}
  },
  {
   "cell_type": "code",
   "execution_count": null,
   "metadata": {},
   "outputs": [],
   "source": [
    "# fig, axs = plt.subplots(ncols=2, figsize=(12,6))\n",
    "# sns.distplot(dataset[\"a2\"], color='red', bins=1000, ax=axs[0])\n",
    "# sns.distplot(dataset[\"b1\"], color='red', bins=1000, ax=axs[1])\n",
    "# fig.savefig(\"/media/nirav/34E0-F309/KTH/Thesis/edited_data/exp_dataset/a2_b1_distr.png\")"
   ]
  },
  {
   "source": [
    "## Checking eta c vs r1 and r2"
   ],
   "cell_type": "markdown",
   "metadata": {}
  },
  {
   "cell_type": "code",
   "execution_count": null,
   "metadata": {},
   "outputs": [],
   "source": [
    "# r1_vals = (r1_range['r1'].to_numpy())[::-5]\n",
    "# # r1_val = r1_vals[0]\n",
    "\n",
    "# fig = plt.figure(figsize=(10,10))\n",
    "# yaxis_label = \"eta c\"\n",
    "# title = \"How eta c varies with r1\" \n",
    "# for r1_val in r1_vals:\n",
    "#     selection_dataset = dataset.copy()\n",
    "#     select_1 = selection_dataset[selection_dataset[\"r1\"]==r1_val]\n",
    "#     plt.scatter(x=np.arange(0,len(select_1)), y=select_1['eta c'], marker='.', alpha=0.9, label=\"r1={v}, {l}\".format(v=r1_val,l=len(select_1)))\n",
    "#     plt.legend()\n",
    "# plt.ylabel(yaxis_label)\n",
    "# plt.title(title)\n",
    "# fig.savefig(\"/media/nirav/34E0-F309/KTH/Thesis/edited_data/exp_dataset/eta_c_vs_r1.png\")"
   ]
  },
  {
   "cell_type": "code",
   "execution_count": null,
   "metadata": {},
   "outputs": [],
   "source": [
    "# r2_vals = (r2_range['r2'].to_numpy())[1::5]\n",
    "# # r1_val = r1_vals[0]\n",
    "\n",
    "# fig = plt.figure(figsize=(10,10))\n",
    "# yaxis_label = \"eta c\"\n",
    "# title = \"How eta c varies with r2\" \n",
    "# for r2_val in r2_vals:\n",
    "#     selection_dataset = dataset.copy()\n",
    "#     select_1 = selection_dataset[selection_dataset[\"r2\"]==r2_val]\n",
    "#     plt.scatter(x=np.arange(0,len(select_1)), y=select_1['eta c'], marker='.', alpha=0.9, label=\"r2={v}, {l}\".format(v=r2_val,l=len(select_1)))\n",
    "#     plt.legend()\n",
    "# plt.ylabel(yaxis_label)\n",
    "# plt.title(title)\n",
    "# fig.savefig(\"/media/nirav/34E0-F309/KTH/Thesis/edited_data/exp_dataset/eta_c_vs_r2.png\")"
   ]
  },
  {
   "source": [
    "## Checking eta c vs frac"
   ],
   "cell_type": "markdown",
   "metadata": {}
  },
  {
   "cell_type": "code",
   "execution_count": null,
   "metadata": {},
   "outputs": [],
   "source": [
    "# frac_range.sort_values('frac', inplace=True)\n",
    "# frac_vals = (frac_range['frac'].to_numpy())[2:4]\n",
    "# # r1_val = r1_vals[0]\n",
    "\n",
    "# fig = plt.figure(figsize=(10,10))\n",
    "# yaxis_label = \"eta c\"\n",
    "# title = \"How eta c varies with frac\" \n",
    "# for frac_val in frac_vals:\n",
    "#     selection_dataset = dataset.copy()\n",
    "#     select_1 = selection_dataset[selection_dataset[\"frac\"]==frac_val]\n",
    "#     plt.scatter(x=np.arange(0,len(select_1)), y=select_1['eta c'], marker='.', alpha=0.9, label=\"frac={v}, {l}\".format(v=frac_val,l=len(select_1)))\n",
    "#     plt.legend()\n",
    "# plt.ylabel(yaxis_label)\n",
    "# plt.title(title)\n",
    "# fig.savefig(\"/media/nirav/34E0-F309/KTH/Thesis/edited_data/exp_dataset/eta_c_vs_frac.png\")"
   ]
  },
  {
   "cell_type": "code",
   "execution_count": null,
   "metadata": {},
   "outputs": [],
   "source": [
    "# frac_range.sort_values('frac', inplace=True)\n",
    "# frac_vals = (frac_range['frac'].to_numpy())\n",
    "# selection_dataset = dataset.copy()\n",
    "\n",
    "# fig = plt.figure()\n",
    "# fig, ax = plt.subplots(nrows=2, ncols=3, figsize=(15,10))\n",
    "# yaxis_label = \"eta c\"\n",
    "# title = \"How eta c varies with frac\" \n",
    "# for i in range(len(frac_range)):\n",
    "#     frac_val = frac_vals[i]\n",
    "#     select_1 = selection_dataset[selection_dataset[\"frac\"]==frac_val]\n",
    "#     ax[int(i/6)][int(i/2)-(int(i/6)*3)].scatter(x=np.arange(0,len(select_1)), y=select_1['eta c'], marker='.', alpha=0.4, label=\"frac={v}, {l}\".format(v=frac_val,l=len(select_1)), )\n",
    "#     # plt.legend()\n",
    "# plt.ylabel(yaxis_label)\n",
    "# plt.title(title)\n",
    "# fig.savefig(\"/media/nirav/34E0-F309/KTH/Thesis/edited_data/exp_dataset/eta_c_vs_frac.png\")"
   ]
  },
  {
   "source": [
    "You can see that with increasing fraction, the eta c value become more spread. This makes sense, because this means the ratio of small:big ellipses increases. In this experiment, the small ellipse dimensions varied with both the major and minor axis, whereas the large ellipse varied with just one axis. As the output becomes more dependant on the 'small ellipse', the variation increases because, loosely, there are more variables to consider with many more different values. {a1} had just {20} possibile values, while {a2,b2} had {13, 134}."
   ],
   "cell_type": "markdown",
   "metadata": {}
  },
  {
   "cell_type": "code",
   "execution_count": null,
   "metadata": {},
   "outputs": [],
   "source": []
  }
 ]
}
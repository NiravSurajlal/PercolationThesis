{
 "metadata": {
  "language_info": {
   "codemirror_mode": {
    "name": "ipython",
    "version": 3
   },
   "file_extension": ".py",
   "mimetype": "text/x-python",
   "name": "python",
   "nbconvert_exporter": "python",
   "pygments_lexer": "ipython3",
   "version": "3.8.5-final"
  },
  "orig_nbformat": 2,
  "kernelspec": {
   "name": "python3",
   "display_name": "Python 3.8.5 64-bit ('base': conda)",
   "metadata": {
    "interpreter": {
     "hash": "937a9bf7f4d02271b0e84c824f2cfec9d499b9b3c4d4ea54ebae47f399b1cd48"
    }
   }
  }
 },
 "nbformat": 4,
 "nbformat_minor": 2,
 "cells": [
  {
   "source": [
    "# Preprocessing\n",
    "This notebook attempts to make more sense of the data. The outcome from this notebook will be used to choose machine learning models and data augmentation methods. It will also help understanding the problem.\n",
    "\n",
    "## Assumptions\n",
    "- The long ellipse if given by r1 while the short ellips is given by a2 and r2\n",
    "- 2a1 = 1, thus a1=0.5 and b1=0.5. 2a2<=1.   \n",
    "- The hetrogenous ellipses are split with f stating how many are short. 1-f gives how many are long.\n",
    "- The ellipse ratio r, is given by the major and minor axis lengths such that r=a/b.\n",
    "- The width of the ellipse in a given axis direction is given by 2a or 2b."
   ],
   "cell_type": "markdown",
   "metadata": {}
  },
  {
   "cell_type": "code",
   "execution_count": 1,
   "metadata": {},
   "outputs": [],
   "source": [
    "import matplotlib.pyplot as plt\n",
    "import pandas as pd\n",
    "import numpy as np\n",
    "import seaborn as sns\n",
    "sns.set()\n",
    "\n",
    "# df[(df['A']>0) & (df['B']>0) & (df['C']>0)]"
   ]
  },
  {
   "source": [
    "Functions"
   ],
   "cell_type": "markdown",
   "metadata": {}
  },
  {
   "cell_type": "code",
   "execution_count": 2,
   "metadata": {},
   "outputs": [],
   "source": [
    "def import_data(name='HybridEllipsePercolation.txt', sep1=\" \", header1=None, shuffle=True):\n",
    "    data = pd.read_csv(name, sep=sep1, header=header1)\n",
    "    data.columns = [\"r1\", \"2a2\", \"r2\", \"frac\", \"Nc\", \"Nc Std. Dev\", \"eta c\" ]\n",
    "    # data.reset_index(inplace=True)\n",
    "    \n",
    "    if shuffle:\n",
    "        data = data.sample(frac=1).reset_index(drop=True)\n",
    "    return data\n",
    "\n",
    "def single_input_vs_output(dataset, input_column, output_column=\"eta c\", plot=False, output=False):\n",
    "    reduced_dataset = dataset.drop_duplicates(subset=input_column)\n",
    "    # data_range = reduced_dataset[input_column].to_numpy()\n",
    "    if output:\n",
    "        print(\"{col} range is: {rng}    (output is {out})\".format(col=input_column, rng=len(reduced_dataset), out=output_column))\n",
    "\n",
    "    if plot:\n",
    "        ax1 = reduced_dataset.plot.scatter( x=input_column,\n",
    "                        y=output_column,\n",
    "                        c='DarkBlue')\n",
    "        return ax1\n",
    "        # return sns.scatterplot(data=reduced_dataset, x=input_column, y=output_column)\n",
    "    \n",
    "    return reduced_dataset[[input_column, output_column]]\n",
    "\n",
    "def split_data(dataset):\n",
    "    train_dataset = dataset.sample(frac=0.6, random_state=0)\n",
    "    valid_and_test_dataset = dataset.drop(train_dataset.index)\n",
    "    test_dataset = valid_and_test_dataset.sample(frac=0.5, random_state=0)\n",
    "    validation_dataset = valid_and_test_dataset.drop(test_dataset.index)\n",
    "    return train_dataset, test_dataset, validation_dataset\n",
    "\n",
    "def split_features_labels(data, label_column='eta c'):\n",
    "    features = data\n",
    "    labels = data.pop(label_column)\n",
    "    return features, labels"
   ]
  },
  {
   "source": [
    "Importing the data."
   ],
   "cell_type": "markdown",
   "metadata": {}
  },
  {
   "cell_type": "code",
   "execution_count": 3,
   "metadata": {},
   "outputs": [
    {
     "output_type": "execute_result",
     "data": {
      "text/plain": [
       "   r1  2a2  r2  frac       Nc  Nc Std. Dev    eta c\n",
       "0   1  1.0   1   0.1  1.43561     0.002692  1.12752\n",
       "1   1  1.0   1   0.3  1.43786     0.002047  1.12929\n",
       "2   1  1.0   2   0.1  1.50315     0.003297  1.12154\n",
       "3   1  1.0   2   0.3  1.65310     0.002845  1.10359\n",
       "4   1  1.0   3   0.1  1.51915     0.002239  1.11360"
      ],
      "text/html": "<div>\n<style scoped>\n    .dataframe tbody tr th:only-of-type {\n        vertical-align: middle;\n    }\n\n    .dataframe tbody tr th {\n        vertical-align: top;\n    }\n\n    .dataframe thead th {\n        text-align: right;\n    }\n</style>\n<table border=\"1\" class=\"dataframe\">\n  <thead>\n    <tr style=\"text-align: right;\">\n      <th></th>\n      <th>r1</th>\n      <th>2a2</th>\n      <th>r2</th>\n      <th>frac</th>\n      <th>Nc</th>\n      <th>Nc Std. Dev</th>\n      <th>eta c</th>\n    </tr>\n  </thead>\n  <tbody>\n    <tr>\n      <th>0</th>\n      <td>1</td>\n      <td>1.0</td>\n      <td>1</td>\n      <td>0.1</td>\n      <td>1.43561</td>\n      <td>0.002692</td>\n      <td>1.12752</td>\n    </tr>\n    <tr>\n      <th>1</th>\n      <td>1</td>\n      <td>1.0</td>\n      <td>1</td>\n      <td>0.3</td>\n      <td>1.43786</td>\n      <td>0.002047</td>\n      <td>1.12929</td>\n    </tr>\n    <tr>\n      <th>2</th>\n      <td>1</td>\n      <td>1.0</td>\n      <td>2</td>\n      <td>0.1</td>\n      <td>1.50315</td>\n      <td>0.003297</td>\n      <td>1.12154</td>\n    </tr>\n    <tr>\n      <th>3</th>\n      <td>1</td>\n      <td>1.0</td>\n      <td>2</td>\n      <td>0.3</td>\n      <td>1.65310</td>\n      <td>0.002845</td>\n      <td>1.10359</td>\n    </tr>\n    <tr>\n      <th>4</th>\n      <td>1</td>\n      <td>1.0</td>\n      <td>3</td>\n      <td>0.1</td>\n      <td>1.51915</td>\n      <td>0.002239</td>\n      <td>1.11360</td>\n    </tr>\n  </tbody>\n</table>\n</div>"
     },
     "metadata": {},
     "execution_count": 3
    }
   ],
   "source": [
    "rawdata = import_data(shuffle=False)\n",
    "dataset = rawdata.copy()\n",
    "\n",
    "# remove irrelevant columns\n",
    "# dataset.pop(\"Nc Std. Dev\")\n",
    "\n",
    "# check for missing values\n",
    "dataset.isna().sum()\n",
    "# drop missing values\n",
    "dataset = dataset.dropna()\n",
    "\n",
    "dataset.head()"
   ]
  },
  {
   "cell_type": "code",
   "execution_count": 4,
   "metadata": {},
   "outputs": [
    {
     "output_type": "execute_result",
     "data": {
      "text/plain": [
       "57841"
      ]
     },
     "metadata": {},
     "execution_count": 4
    }
   ],
   "source": [
    "len(rawdata[\"frac\"])"
   ]
  },
  {
   "cell_type": "code",
   "execution_count": 5,
   "metadata": {},
   "outputs": [
    {
     "output_type": "execute_result",
     "data": {
      "text/plain": [
       "               count        mean         std       min       25%        50%  \\\n",
       "r1           57841.0  103.383638  232.908907  1.000000  5.000000  10.000000   \n",
       "2a2          57841.0    0.429883    0.334954  0.010000  0.100000   0.400000   \n",
       "r2           57841.0  104.464221  233.847952  1.000000  5.000000  10.000000   \n",
       "frac         57841.0    0.505726    0.305310  0.050000  0.200000   0.500000   \n",
       "Nc           57841.0   12.574629   19.926546  1.435060  5.037460   6.436630   \n",
       "Nc Std. Dev  57841.0    0.015344    0.029638  0.001055  0.005530   0.007528   \n",
       "eta c        57841.0    0.393200    0.314354  0.004415  0.108271   0.360227   \n",
       "\n",
       "                   75%          max  \n",
       "r1           50.000000  1000.000000  \n",
       "2a2           0.700000     1.000000  \n",
       "r2           50.000000  1000.000000  \n",
       "frac          0.800000     0.990000  \n",
       "Nc           10.789000   300.398000  \n",
       "Nc Std. Dev   0.012261     0.822712  \n",
       "eta c         0.595977     1.426060  "
      ],
      "text/html": "<div>\n<style scoped>\n    .dataframe tbody tr th:only-of-type {\n        vertical-align: middle;\n    }\n\n    .dataframe tbody tr th {\n        vertical-align: top;\n    }\n\n    .dataframe thead th {\n        text-align: right;\n    }\n</style>\n<table border=\"1\" class=\"dataframe\">\n  <thead>\n    <tr style=\"text-align: right;\">\n      <th></th>\n      <th>count</th>\n      <th>mean</th>\n      <th>std</th>\n      <th>min</th>\n      <th>25%</th>\n      <th>50%</th>\n      <th>75%</th>\n      <th>max</th>\n    </tr>\n  </thead>\n  <tbody>\n    <tr>\n      <th>r1</th>\n      <td>57841.0</td>\n      <td>103.383638</td>\n      <td>232.908907</td>\n      <td>1.000000</td>\n      <td>5.000000</td>\n      <td>10.000000</td>\n      <td>50.000000</td>\n      <td>1000.000000</td>\n    </tr>\n    <tr>\n      <th>2a2</th>\n      <td>57841.0</td>\n      <td>0.429883</td>\n      <td>0.334954</td>\n      <td>0.010000</td>\n      <td>0.100000</td>\n      <td>0.400000</td>\n      <td>0.700000</td>\n      <td>1.000000</td>\n    </tr>\n    <tr>\n      <th>r2</th>\n      <td>57841.0</td>\n      <td>104.464221</td>\n      <td>233.847952</td>\n      <td>1.000000</td>\n      <td>5.000000</td>\n      <td>10.000000</td>\n      <td>50.000000</td>\n      <td>1000.000000</td>\n    </tr>\n    <tr>\n      <th>frac</th>\n      <td>57841.0</td>\n      <td>0.505726</td>\n      <td>0.305310</td>\n      <td>0.050000</td>\n      <td>0.200000</td>\n      <td>0.500000</td>\n      <td>0.800000</td>\n      <td>0.990000</td>\n    </tr>\n    <tr>\n      <th>Nc</th>\n      <td>57841.0</td>\n      <td>12.574629</td>\n      <td>19.926546</td>\n      <td>1.435060</td>\n      <td>5.037460</td>\n      <td>6.436630</td>\n      <td>10.789000</td>\n      <td>300.398000</td>\n    </tr>\n    <tr>\n      <th>Nc Std. Dev</th>\n      <td>57841.0</td>\n      <td>0.015344</td>\n      <td>0.029638</td>\n      <td>0.001055</td>\n      <td>0.005530</td>\n      <td>0.007528</td>\n      <td>0.012261</td>\n      <td>0.822712</td>\n    </tr>\n    <tr>\n      <th>eta c</th>\n      <td>57841.0</td>\n      <td>0.393200</td>\n      <td>0.314354</td>\n      <td>0.004415</td>\n      <td>0.108271</td>\n      <td>0.360227</td>\n      <td>0.595977</td>\n      <td>1.426060</td>\n    </tr>\n  </tbody>\n</table>\n</div>"
     },
     "metadata": {},
     "execution_count": 5
    }
   ],
   "source": [
    "dataset.describe().transpose()"
   ]
  },
  {
   "source": [
    "From the statistics above, we can instantly see that the data is skewed. r1's mean is < 0.5*its ma, and the same goes for 2a2 and r2. we need to look at some distributions of the data. Maybe see some histrograms of frequency as well. If the data is skewed, splitting may not be simple. Some data may have to be left out to prevent biases. It is possible that we can consider this later during tuning. "
   ],
   "cell_type": "markdown",
   "metadata": {}
  },
  {
   "source": [
    "Here we will extend the dataset to include the major and minor axis lengths and areas."
   ],
   "cell_type": "markdown",
   "metadata": {}
  },
  {
   "cell_type": "code",
   "execution_count": 6,
   "metadata": {},
   "outputs": [
    {
     "output_type": "execute_result",
     "data": {
      "text/plain": [
       "   r1  2a2  r2  frac       Nc  Nc Std. Dev    eta c   a1   b1   a2        b2  \\\n",
       "0   1  1.0   1   0.1  1.43561     0.002692  1.12752  0.5  0.5  0.5  0.500000   \n",
       "1   1  1.0   1   0.3  1.43786     0.002047  1.12929  0.5  0.5  0.5  0.500000   \n",
       "2   1  1.0   2   0.1  1.50315     0.003297  1.12154  0.5  0.5  0.5  0.250000   \n",
       "3   1  1.0   2   0.3  1.65310     0.002845  1.10359  0.5  0.5  0.5  0.250000   \n",
       "4   1  1.0   3   0.1  1.51915     0.002239  1.11360  0.5  0.5  0.5  0.166667   \n",
       "\n",
       "      area1     area2  TotalArea  RatioTotalArea  \n",
       "0  0.785398  0.785398   1.570796        0.785398  \n",
       "1  0.785398  0.785398   1.570796        0.785398  \n",
       "2  0.785398  0.392699   1.178097        0.746128  \n",
       "3  0.785398  0.392699   1.178097        0.667588  \n",
       "4  0.785398  0.261799   1.047198        0.733038  "
      ],
      "text/html": "<div>\n<style scoped>\n    .dataframe tbody tr th:only-of-type {\n        vertical-align: middle;\n    }\n\n    .dataframe tbody tr th {\n        vertical-align: top;\n    }\n\n    .dataframe thead th {\n        text-align: right;\n    }\n</style>\n<table border=\"1\" class=\"dataframe\">\n  <thead>\n    <tr style=\"text-align: right;\">\n      <th></th>\n      <th>r1</th>\n      <th>2a2</th>\n      <th>r2</th>\n      <th>frac</th>\n      <th>Nc</th>\n      <th>Nc Std. Dev</th>\n      <th>eta c</th>\n      <th>a1</th>\n      <th>b1</th>\n      <th>a2</th>\n      <th>b2</th>\n      <th>area1</th>\n      <th>area2</th>\n      <th>TotalArea</th>\n      <th>RatioTotalArea</th>\n    </tr>\n  </thead>\n  <tbody>\n    <tr>\n      <th>0</th>\n      <td>1</td>\n      <td>1.0</td>\n      <td>1</td>\n      <td>0.1</td>\n      <td>1.43561</td>\n      <td>0.002692</td>\n      <td>1.12752</td>\n      <td>0.5</td>\n      <td>0.5</td>\n      <td>0.5</td>\n      <td>0.500000</td>\n      <td>0.785398</td>\n      <td>0.785398</td>\n      <td>1.570796</td>\n      <td>0.785398</td>\n    </tr>\n    <tr>\n      <th>1</th>\n      <td>1</td>\n      <td>1.0</td>\n      <td>1</td>\n      <td>0.3</td>\n      <td>1.43786</td>\n      <td>0.002047</td>\n      <td>1.12929</td>\n      <td>0.5</td>\n      <td>0.5</td>\n      <td>0.5</td>\n      <td>0.500000</td>\n      <td>0.785398</td>\n      <td>0.785398</td>\n      <td>1.570796</td>\n      <td>0.785398</td>\n    </tr>\n    <tr>\n      <th>2</th>\n      <td>1</td>\n      <td>1.0</td>\n      <td>2</td>\n      <td>0.1</td>\n      <td>1.50315</td>\n      <td>0.003297</td>\n      <td>1.12154</td>\n      <td>0.5</td>\n      <td>0.5</td>\n      <td>0.5</td>\n      <td>0.250000</td>\n      <td>0.785398</td>\n      <td>0.392699</td>\n      <td>1.178097</td>\n      <td>0.746128</td>\n    </tr>\n    <tr>\n      <th>3</th>\n      <td>1</td>\n      <td>1.0</td>\n      <td>2</td>\n      <td>0.3</td>\n      <td>1.65310</td>\n      <td>0.002845</td>\n      <td>1.10359</td>\n      <td>0.5</td>\n      <td>0.5</td>\n      <td>0.5</td>\n      <td>0.250000</td>\n      <td>0.785398</td>\n      <td>0.392699</td>\n      <td>1.178097</td>\n      <td>0.667588</td>\n    </tr>\n    <tr>\n      <th>4</th>\n      <td>1</td>\n      <td>1.0</td>\n      <td>3</td>\n      <td>0.1</td>\n      <td>1.51915</td>\n      <td>0.002239</td>\n      <td>1.11360</td>\n      <td>0.5</td>\n      <td>0.5</td>\n      <td>0.5</td>\n      <td>0.166667</td>\n      <td>0.785398</td>\n      <td>0.261799</td>\n      <td>1.047198</td>\n      <td>0.733038</td>\n    </tr>\n  </tbody>\n</table>\n</div>"
     },
     "metadata": {},
     "execution_count": 6
    }
   ],
   "source": [
    "dataset[\"a1\"]=1/2\n",
    "dataset[\"b1\"]=dataset[\"a1\"]/dataset[\"r1\"]\n",
    "dataset[\"a2\"]=dataset[\"2a2\"]/2\n",
    "dataset[\"b2\"]=dataset[\"a2\"]/dataset[\"r2\"]\n",
    "dataset[\"area1\"]=dataset[\"a1\"]*dataset[\"b1\"]*np.pi\n",
    "dataset[\"area2\"]=dataset[\"a2\"]*dataset[\"b2\"]*np.pi\n",
    "dataset[\"TotalArea\"] = dataset[\"area1\"] + dataset[\"area2\"]\n",
    "dataset[\"RatioTotalArea\"] = dataset[\"area1\"]*(1-dataset[\"frac\"]) + dataset[\"area2\"]*(dataset[\"frac\"])\n",
    "dataset.head()"
   ]
  },
  {
   "cell_type": "code",
   "execution_count": 7,
   "metadata": {},
   "outputs": [
    {
     "output_type": "execute_result",
     "data": {
      "text/plain": [
       "                  count        mean         std           min       25%  \\\n",
       "r1              57841.0  103.383638  232.908907  1.000000e+00  5.000000   \n",
       "2a2             57841.0    0.429883    0.334954  1.000000e-02  0.100000   \n",
       "r2              57841.0  104.464221  233.847952  1.000000e+00  5.000000   \n",
       "frac            57841.0    0.505726    0.305310  5.000000e-02  0.200000   \n",
       "Nc              57841.0   12.574629   19.926546  1.435060e+00  5.037460   \n",
       "Nc Std. Dev     57841.0    0.015344    0.029638  1.055250e-03  0.005530   \n",
       "eta c           57841.0    0.393200    0.314354  4.414860e-03  0.108271   \n",
       "a1              57841.0    0.500000    0.000000  5.000000e-01  0.500000   \n",
       "b1              57841.0    0.081946    0.118592  5.000000e-04  0.010000   \n",
       "a2              57841.0    0.214941    0.167477  5.000000e-03  0.050000   \n",
       "b2              57841.0    0.033902    0.068109  5.000000e-06  0.001250   \n",
       "area1           57841.0    0.128720    0.186284  7.853982e-04  0.015708   \n",
       "area2           57841.0    0.036790    0.089663  7.853982e-08  0.000245   \n",
       "TotalArea       57841.0    0.165510    0.206737  7.854767e-04  0.026965   \n",
       "RatioTotalArea  57841.0    0.079941    0.120673  3.934452e-05  0.010191   \n",
       "\n",
       "                      50%        75%          max  \n",
       "r1              10.000000  50.000000  1000.000000  \n",
       "2a2              0.400000   0.700000     1.000000  \n",
       "r2              10.000000  50.000000  1000.000000  \n",
       "frac             0.500000   0.800000     0.990000  \n",
       "Nc               6.436630  10.789000   300.398000  \n",
       "Nc Std. Dev      0.007528   0.012261     0.822712  \n",
       "eta c            0.360227   0.595977     1.426060  \n",
       "a1               0.500000   0.500000     0.500000  \n",
       "b1               0.050000   0.100000     0.500000  \n",
       "a2               0.200000   0.350000     0.500000  \n",
       "b2               0.007500   0.037500     0.500000  \n",
       "area1            0.078540   0.157080     0.785398  \n",
       "area2            0.003927   0.031416     0.785398  \n",
       "TotalArea        0.098194   0.198313     1.570796  \n",
       "RatioTotalArea   0.037316   0.094248     0.785398  "
      ],
      "text/html": "<div>\n<style scoped>\n    .dataframe tbody tr th:only-of-type {\n        vertical-align: middle;\n    }\n\n    .dataframe tbody tr th {\n        vertical-align: top;\n    }\n\n    .dataframe thead th {\n        text-align: right;\n    }\n</style>\n<table border=\"1\" class=\"dataframe\">\n  <thead>\n    <tr style=\"text-align: right;\">\n      <th></th>\n      <th>count</th>\n      <th>mean</th>\n      <th>std</th>\n      <th>min</th>\n      <th>25%</th>\n      <th>50%</th>\n      <th>75%</th>\n      <th>max</th>\n    </tr>\n  </thead>\n  <tbody>\n    <tr>\n      <th>r1</th>\n      <td>57841.0</td>\n      <td>103.383638</td>\n      <td>232.908907</td>\n      <td>1.000000e+00</td>\n      <td>5.000000</td>\n      <td>10.000000</td>\n      <td>50.000000</td>\n      <td>1000.000000</td>\n    </tr>\n    <tr>\n      <th>2a2</th>\n      <td>57841.0</td>\n      <td>0.429883</td>\n      <td>0.334954</td>\n      <td>1.000000e-02</td>\n      <td>0.100000</td>\n      <td>0.400000</td>\n      <td>0.700000</td>\n      <td>1.000000</td>\n    </tr>\n    <tr>\n      <th>r2</th>\n      <td>57841.0</td>\n      <td>104.464221</td>\n      <td>233.847952</td>\n      <td>1.000000e+00</td>\n      <td>5.000000</td>\n      <td>10.000000</td>\n      <td>50.000000</td>\n      <td>1000.000000</td>\n    </tr>\n    <tr>\n      <th>frac</th>\n      <td>57841.0</td>\n      <td>0.505726</td>\n      <td>0.305310</td>\n      <td>5.000000e-02</td>\n      <td>0.200000</td>\n      <td>0.500000</td>\n      <td>0.800000</td>\n      <td>0.990000</td>\n    </tr>\n    <tr>\n      <th>Nc</th>\n      <td>57841.0</td>\n      <td>12.574629</td>\n      <td>19.926546</td>\n      <td>1.435060e+00</td>\n      <td>5.037460</td>\n      <td>6.436630</td>\n      <td>10.789000</td>\n      <td>300.398000</td>\n    </tr>\n    <tr>\n      <th>Nc Std. Dev</th>\n      <td>57841.0</td>\n      <td>0.015344</td>\n      <td>0.029638</td>\n      <td>1.055250e-03</td>\n      <td>0.005530</td>\n      <td>0.007528</td>\n      <td>0.012261</td>\n      <td>0.822712</td>\n    </tr>\n    <tr>\n      <th>eta c</th>\n      <td>57841.0</td>\n      <td>0.393200</td>\n      <td>0.314354</td>\n      <td>4.414860e-03</td>\n      <td>0.108271</td>\n      <td>0.360227</td>\n      <td>0.595977</td>\n      <td>1.426060</td>\n    </tr>\n    <tr>\n      <th>a1</th>\n      <td>57841.0</td>\n      <td>0.500000</td>\n      <td>0.000000</td>\n      <td>5.000000e-01</td>\n      <td>0.500000</td>\n      <td>0.500000</td>\n      <td>0.500000</td>\n      <td>0.500000</td>\n    </tr>\n    <tr>\n      <th>b1</th>\n      <td>57841.0</td>\n      <td>0.081946</td>\n      <td>0.118592</td>\n      <td>5.000000e-04</td>\n      <td>0.010000</td>\n      <td>0.050000</td>\n      <td>0.100000</td>\n      <td>0.500000</td>\n    </tr>\n    <tr>\n      <th>a2</th>\n      <td>57841.0</td>\n      <td>0.214941</td>\n      <td>0.167477</td>\n      <td>5.000000e-03</td>\n      <td>0.050000</td>\n      <td>0.200000</td>\n      <td>0.350000</td>\n      <td>0.500000</td>\n    </tr>\n    <tr>\n      <th>b2</th>\n      <td>57841.0</td>\n      <td>0.033902</td>\n      <td>0.068109</td>\n      <td>5.000000e-06</td>\n      <td>0.001250</td>\n      <td>0.007500</td>\n      <td>0.037500</td>\n      <td>0.500000</td>\n    </tr>\n    <tr>\n      <th>area1</th>\n      <td>57841.0</td>\n      <td>0.128720</td>\n      <td>0.186284</td>\n      <td>7.853982e-04</td>\n      <td>0.015708</td>\n      <td>0.078540</td>\n      <td>0.157080</td>\n      <td>0.785398</td>\n    </tr>\n    <tr>\n      <th>area2</th>\n      <td>57841.0</td>\n      <td>0.036790</td>\n      <td>0.089663</td>\n      <td>7.853982e-08</td>\n      <td>0.000245</td>\n      <td>0.003927</td>\n      <td>0.031416</td>\n      <td>0.785398</td>\n    </tr>\n    <tr>\n      <th>TotalArea</th>\n      <td>57841.0</td>\n      <td>0.165510</td>\n      <td>0.206737</td>\n      <td>7.854767e-04</td>\n      <td>0.026965</td>\n      <td>0.098194</td>\n      <td>0.198313</td>\n      <td>1.570796</td>\n    </tr>\n    <tr>\n      <th>RatioTotalArea</th>\n      <td>57841.0</td>\n      <td>0.079941</td>\n      <td>0.120673</td>\n      <td>3.934452e-05</td>\n      <td>0.010191</td>\n      <td>0.037316</td>\n      <td>0.094248</td>\n      <td>0.785398</td>\n    </tr>\n  </tbody>\n</table>\n</div>"
     },
     "metadata": {},
     "execution_count": 7
    }
   ],
   "source": [
    "dataset.describe().transpose()"
   ]
  },
  {
   "source": [
    "The next step is to check for repeating values. Printing the returned variable gives all of the values. This (and some subsequent steps) have no consequence to the area, so the area will be left out. "
   ],
   "cell_type": "markdown",
   "metadata": {}
  },
  {
   "cell_type": "code",
   "execution_count": 8,
   "metadata": {},
   "outputs": [
    {
     "output_type": "execute_result",
     "data": {
      "text/plain": [
       "r1                   20\n",
       "2a2                  13\n",
       "r2                   20\n",
       "frac                 12\n",
       "Nc                55341\n",
       "Nc Std. Dev       55931\n",
       "eta c             53463\n",
       "a1                    1\n",
       "b1                   20\n",
       "a2                   13\n",
       "b2                  134\n",
       "area1                20\n",
       "area2               194\n",
       "TotalArea          3364\n",
       "RatioTotalArea    31078\n",
       "dtype: int64"
      ]
     },
     "metadata": {},
     "execution_count": 8
    }
   ],
   "source": [
    "r1_range = single_input_vs_output(dataset, \"r1\")\n",
    "r2_range = single_input_vs_output(dataset, \"r2\")\n",
    "frac_range = single_input_vs_output(dataset, \"frac\")\n",
    "a1_range = single_input_vs_output(dataset, \"a1\")\n",
    "b1_range = single_input_vs_output(dataset, \"b1\")\n",
    "a2_range = single_input_vs_output(dataset, \"a2\")\n",
    "b2_range = single_input_vs_output(dataset, \"b2\")\n",
    "_2a2_range = single_input_vs_output(dataset, \"2a2\")\n",
    "\n",
    "dataset.nunique()"
   ]
  },
  {
   "source": [
    "You can see from theabove that a1 is constant. b2 has the most variation with frac varying the least. Next would be to plot a histogram of the numbers occuring for each one. The histogram plots will be presented as {r1, r2}, {a2,frac}. \n",
    "\n",
    "We have to note the actual numbers for choosing the correct bin size, so viewing the list of present values is useful.\n",
    "\n",
    "r1 -> 1000, r2 -> 1000, frac -> 100, a2 or 2a2 -> 1000"
   ],
   "cell_type": "markdown",
   "metadata": {}
  },
  {
   "cell_type": "code",
   "execution_count": 9,
   "metadata": {},
   "outputs": [],
   "source": [
    "# sns.distplot(dataset[\"frac\"], kde=False, color='red', bins=100)\n",
    "# plt.title('Frequency of Fraction', fontsize=14)\n",
    "# plt.xlabel('Fraction', fontsize=10)\n",
    "# plt.ylabel('Frequency', fontsize=10)\n",
    "\n",
    "# fig, axs = plt.subplots(ncols=2, figsize=(12,6))\n",
    "# sns.distplot(dataset[\"r1\"], kde=False, color='red', bins=1000, ax=axs[0])\n",
    "# sns.distplot(dataset[\"r2\"], kde=False, color='red', bins=1000, ax=axs[1])\n",
    "# fig.savefig(\"imgs/r1_r2_freq.png\")"
   ]
  },
  {
   "source": [
    "r1 & r2 frequnecies.\n",
    "\n",
    "![r1_r2_freq](imgs/r1_r2_freq.png)"
   ],
   "cell_type": "markdown",
   "metadata": {}
  },
  {
   "source": [
    "This is not too visible, so can convert the columns to strings and plot like catagories. "
   ],
   "cell_type": "markdown",
   "metadata": {}
  },
  {
   "cell_type": "code",
   "execution_count": 10,
   "metadata": {},
   "outputs": [],
   "source": [
    "# catagorical_dataset = dataset.copy()\n",
    "# catagorical_dataset['r1'] = catagorical_dataset['r1'].astype(str)\n",
    "# catagorical_dataset['r2'] = catagorical_dataset['r2'].astype(str)\n",
    "# fig1 = sns.displot(catagorical_dataset, x=\"r1\", shrink=.8, color='red', ax=axs[0])\n",
    "# fig2 = sns.displot(catagorical_dataset, x=\"r2\", shrink=.8, color='red', ax=axs[1])\n",
    "# fig1.savefig(\"imgs/cat_r1_freq.png\")\n",
    "# fig2.savefig(\"imgs/cat_r2_freq.png\")"
   ]
  },
  {
   "cell_type": "code",
   "execution_count": 11,
   "metadata": {},
   "outputs": [],
   "source": [
    "# catagorical_dataset['frac'] = catagorical_dataset['frac'].astype(str)\n",
    "# fig1 = sns.displot(catagorical_dataset, x=\"frac\", shrink=.8, color='red', ax=axs[0])\n",
    "\n",
    "# catagorical_dataset['a2'] = catagorical_dataset['a2'].astype(str)\n",
    "# fig2 = sns.displot(catagorical_dataset, x=\"a2\", shrink=.8, color='red', ax=axs[1])\n",
    "# fig1.savefig(\"imgs/cat_frac_freq.png\")\n",
    "# fig2.savefig(\"imgs/cat_a2_freq.png\")"
   ]
  },
  {
   "source": [
    "From the plots, we can see that r1, r2 are relatively consistent in the amount of data for each r value, but the data is skewed towards the smaller r values.\n",
    "\n",
    "![cat_r1_freq](imgs/cat_r1_freq.png)\n",
    "![cat_r2_freq](imgs/cat_r2_freq.png)\n",
    "![cat_frac_freq](imgs/cat_frac_freq.png)\n",
    "![cat_a2_freq](imgs/cat_a2_freq.png)\n",
    "\n",
    "\n",
    "frac 0.99 has substantially fewer points than the rest. The frac class is also skewed towards the higher frac numbers, as the intervals decrease after 0.9 (including 0.95 and 0.99).\n",
    "\n",
    "the a2 class (or 2a2) increases by 0.05 between 0.05 and 0.5 (0.1 for 2a2...). However, it also includes {0.005, 0.01, 0.025}, i.e. +0.005, +0.015, +0.025. This means there are more points in the {0-0.05 range than the other intervals}. \n",
    "\n",
    "This can be shown in the distributino plots."
   ],
   "cell_type": "markdown",
   "metadata": {}
  },
  {
   "cell_type": "code",
   "execution_count": 12,
   "metadata": {},
   "outputs": [
    {
     "output_type": "stream",
     "name": "stdout",
     "text": [
      "r1 range [1, 2, 3, 4, 5, 6, 7, 8, 9, 10, 15, 20, 30, 40, 50, 80, 100, 200, 500, 1000]\nr2 range [1, 2, 3, 4, 5, 6, 7, 8, 9, 10, 15, 20, 30, 40, 50, 80, 100, 200, 500, 1000]\nfrac range [0.05, 0.1, 0.2, 0.3, 0.4, 0.5, 0.6, 0.7, 0.8, 0.9, 0.95, 0.99]\n2a2 range [0.01, 0.02, 0.05, 0.1, 0.2, 0.3, 0.4, 0.5, 0.6, 0.7, 0.8, 0.9, 1.0]\na2 range [0.005, 0.01, 0.025, 0.05, 0.1, 0.15, 0.2, 0.25, 0.3, 0.35, 0.4, 0.45, 0.5]\n"
     ]
    }
   ],
   "source": [
    "frac_range.sort_values('frac', inplace=True)\n",
    "_2a2_range.sort_values('2a2', inplace=True)\n",
    "a2_range.sort_values('a2', inplace=True)\n",
    "print(\"r1 range {}\".format(list(r1_range[\"r1\"])))\n",
    "print(\"r2 range {}\".format(list(r2_range[\"r2\"])))\n",
    "print(\"frac range {}\".format(list(frac_range[\"frac\"])))\n",
    "print(\"2a2 range {}\".format(list(_2a2_range[\"2a2\"])))\n",
    "print(\"a2 range {}\".format(list(a2_range[\"a2\"])))"
   ]
  },
  {
   "cell_type": "code",
   "execution_count": 13,
   "metadata": {},
   "outputs": [
    {
     "output_type": "stream",
     "name": "stdout",
     "text": [
      "r1 <= 100 is 49251 out of 57841\nr1=200 is 2860. r1=500 is 2870. r1=1000 is 2860\nr2 <= 100 is 49168 out of 57841\nr2=200 is 2891. r2=500 is 2891. r2=1000 is 2891\n"
     ]
    }
   ],
   "source": [
    "print(\"r1 <= 100 is {x} out of {y}\".format( x=dataset[dataset[\"r1\"]<150].count()[\"r1\"], y=len(dataset)))\n",
    "print(\"r1=200 is {x}. r1=500 is {y}. r1=1000 is {z}\".format( x=dataset[dataset[\"r1\"]==200].count()[\"r1\"], y=dataset[dataset[\"r1\"]==500].count()[\"r1\"], z=dataset[dataset[\"r1\"]==1000].count()[\"r1\"]))\n",
    "print(\"r2 <= 100 is {x} out of {y}\".format( x=dataset[dataset[\"r2\"]<150].count()[\"r2\"], y=len(dataset)))\n",
    "print(\"r2=200 is {x}. r2=500 is {y}. r2=1000 is {z}\".format( x=dataset[dataset[\"r2\"]==200].count()[\"r2\"], y=dataset[dataset[\"r2\"]==500].count()[\"r2\"], z=dataset[dataset[\"r2\"]==1000].count()[\"r2\"]))"
   ]
  },
  {
   "source": [
    "For the r1 and r2 <=100 there is a lot of data. The other intervals 200, 500 and 1000 have a similar number of samples.Thi swould inidcate that we should remove from the lower set. Some options exist. If the lower space is equally involved, we could take the entire set <100, shuffle it and split it to an equal number of samples. Another option is to identify if a subset of this is more relevant to the predicitions/use cases. For instance, if most of the time we are in the <100 range, maybe the higher r values are unnecessary. The distribution plots make this clearer. "
   ],
   "cell_type": "markdown",
   "metadata": {}
  },
  {
   "cell_type": "code",
   "execution_count": 14,
   "metadata": {},
   "outputs": [],
   "source": [
    "# fig, axs = plt.subplots(ncols=2, figsize=(12,6))\n",
    "# sns.distplot(dataset[\"r1\"], color='red', bins=1000, ax=axs[0])\n",
    "# sns.distplot(dataset[\"r2\"], color='red', bins=1000, ax=axs[1])\n",
    "# fig.savefig(\"imgs/dist_r1_r2_freq.png\")"
   ]
  },
  {
   "cell_type": "code",
   "execution_count": 15,
   "metadata": {},
   "outputs": [],
   "source": [
    "# fig, axs = plt.subplots(ncols=2, figsize=(12,6))\n",
    "# sns.distplot(dataset[\"frac\"], color='red', bins=100, ax=axs[0])\n",
    "# sns.distplot(dataset[\"a2\"], color='red', bins=100, ax=axs[1])\n",
    "# fig.savefig(\"imgs/dist_frac_a2_freq.png\")"
   ]
  },
  {
   "source": [
    "Distribution Plots\n",
    "\n",
    "![cat_frac_a2_freq](imgs/dist_r1_r2_freq.png)\n",
    "![cat_frac_a2_freq](imgs/dist_frac_a2_freq.png)\n"
   ],
   "cell_type": "markdown",
   "metadata": {}
  },
  {
   "source": [
    "Before moving forward, we can look at the output or labels/targets. These are the 'eta c' and 'Nc' columns."
   ],
   "cell_type": "markdown",
   "metadata": {}
  },
  {
   "cell_type": "code",
   "execution_count": 16,
   "metadata": {},
   "outputs": [],
   "source": [
    "# fig, axs = plt.subplots(ncols=2, figsize=(12,6))\n",
    "# sns.distplot(dataset[\"eta c\"], color='red', bins=100, ax=axs[0])\n",
    "# sns.distplot(dataset[\"Nc\"], color='red', bins=100, ax=axs[1])\n",
    "# fig.savefig(\"imgs/dist_outputs.png\")"
   ]
  },
  {
   "source": [
    "![dist_outputs](imgs/dist_outputs.png)\n",
    "\n",
    "From this we can see that the target distributions are skewed towards the lower end of the specturm. Rescaling 'Nc' between -1 and 1 will result in more dense data with larger outliers. Using 'eta c' as the output may be better. Before emoving on, we should plot all the variables agains one another (see Data.png)."
   ],
   "cell_type": "markdown",
   "metadata": {}
  },
  {
   "cell_type": "code",
   "execution_count": 17,
   "metadata": {},
   "outputs": [],
   "source": [
    "#Takes long to plot -> see saved images.\n",
    "\n",
    "# sns.pairplot(dataset[['r1', '2a2', 'r2', 'frac', 'Nc', 'eta c']], diag_kind='kde')"
   ]
  },
  {
   "source": [
    "Pairplot of the data.\n",
    "\n",
    "![Pairplot](imgs/Data.png)"
   ],
   "cell_type": "markdown",
   "metadata": {}
  },
  {
   "source": [
    "Unfortunatley, the data does not show any direct correlations and a hear map is not very useful here. When looking at the data it is useful to remember that the simulations used the inputs to predict 'eta c' or 'Nc' when percolation in the system will occur. We will look at the expanded data and the output now."
   ],
   "cell_type": "markdown",
   "metadata": {}
  },
  {
   "cell_type": "code",
   "execution_count": 18,
   "metadata": {},
   "outputs": [],
   "source": [
    "# fig=sns.pairplot(dataset[['a1', 'b1', 'a2', 'b2', 'area1', 'area2', 'eta c']], diag_kind='kde')\n",
    "# fig.savefig(\"imgs/expanded_pairplot.png\")"
   ]
  },
  {
   "source": [
    "The expanded pairplot.\n",
    "\n",
    "![Pairplot](imgs/expanded_pairplot.png)"
   ],
   "cell_type": "markdown",
   "metadata": {}
  },
  {
   "source": [
    "Now the range of each feature is different and some of them are unbalanced. The features can be standardized between -1 and 1 with a 0 mean. This will be useful to prevent one feature from dominating the weight updates. We can account for the unbalancing by ommiting some data and/or feature selection. However, lets try PCA first and see how the problem looks. \n",
    "\n",
    "NOTE: The targets 'eta c' and 'Nc' have been scaled."
   ],
   "cell_type": "markdown",
   "metadata": {}
  },
  {
   "cell_type": "code",
   "execution_count": 19,
   "metadata": {},
   "outputs": [
    {
     "output_type": "execute_result",
     "data": {
      "text/plain": [
       "                  count          mean       std           min       25%  \\\n",
       "r1              57841.0  8.408364e-15  1.000009 -4.395904e-01 -0.422416   \n",
       "2a2             57841.0  3.084386e-16  1.000009 -1.253563e+00 -0.984867   \n",
       "r2              57841.0  2.267242e-17  1.000009 -4.424461e-01 -0.425341   \n",
       "frac            57841.0  6.800014e-15  1.000009 -1.492678e+00 -1.001370   \n",
       "Nc              57841.0  1.270110e-15  1.000009 -5.590365e-01 -0.378251   \n",
       "Nc Std. Dev     57841.0  1.534408e-02  0.029638  1.055250e-03  0.005530   \n",
       "eta c           57841.0  4.291406e-16  1.000009 -1.236784e+00 -0.906402   \n",
       "a1              57841.0  5.000000e-01  0.000000  5.000000e-01  0.500000   \n",
       "b1              57841.0 -2.878904e+00  7.280559 -3.441664e+01 -1.396598   \n",
       "a2              57841.0  1.542193e-16  0.500004 -6.267814e-01 -0.492434   \n",
       "b2              57841.0 -5.535940e-04  6.074734 -4.457962e+01 -1.090322   \n",
       "area1           57841.0  1.287199e-01  0.186284  7.853982e-04  0.015708   \n",
       "area2           57841.0  3.679010e-02  0.089663  7.853982e-08  0.000245   \n",
       "TotalArea       57841.0  1.065212e-16  1.000009 -7.967905e-01 -0.670156   \n",
       "RatioTotalArea  57841.0 -5.059681e-16  1.000009 -6.621387e-01 -0.578017   \n",
       "\n",
       "                     50%       75%        max  \n",
       "r1             -0.400948 -0.229206   3.849677  \n",
       "2a2            -0.089215  0.806437   1.702089  \n",
       "r2             -0.403959 -0.232906   3.829597  \n",
       "frac           -0.018754  0.963861   1.586184  \n",
       "Nc             -0.308034 -0.089611  14.444343  \n",
       "Nc Std. Dev     0.007528  0.012261   0.822712  \n",
       "eta c          -0.104892  0.645064   3.285683  \n",
       "a1              0.500000  0.500000   0.500000  \n",
       "b1             -1.208228 -1.148641   1.205318  \n",
       "a2             -0.044608  0.403218   0.851044  \n",
       "b2              0.103831  1.287147  32.832221  \n",
       "area1           0.078540  0.157080   0.785398  \n",
       "area2           0.003927  0.031416   0.785398  \n",
       "TotalArea      -0.325613  0.158672   6.797525  \n",
       "RatioTotalArea -0.353228  0.118560   5.846071  "
      ],
      "text/html": "<div>\n<style scoped>\n    .dataframe tbody tr th:only-of-type {\n        vertical-align: middle;\n    }\n\n    .dataframe tbody tr th {\n        vertical-align: top;\n    }\n\n    .dataframe thead th {\n        text-align: right;\n    }\n</style>\n<table border=\"1\" class=\"dataframe\">\n  <thead>\n    <tr style=\"text-align: right;\">\n      <th></th>\n      <th>count</th>\n      <th>mean</th>\n      <th>std</th>\n      <th>min</th>\n      <th>25%</th>\n      <th>50%</th>\n      <th>75%</th>\n      <th>max</th>\n    </tr>\n  </thead>\n  <tbody>\n    <tr>\n      <th>r1</th>\n      <td>57841.0</td>\n      <td>8.408364e-15</td>\n      <td>1.000009</td>\n      <td>-4.395904e-01</td>\n      <td>-0.422416</td>\n      <td>-0.400948</td>\n      <td>-0.229206</td>\n      <td>3.849677</td>\n    </tr>\n    <tr>\n      <th>2a2</th>\n      <td>57841.0</td>\n      <td>3.084386e-16</td>\n      <td>1.000009</td>\n      <td>-1.253563e+00</td>\n      <td>-0.984867</td>\n      <td>-0.089215</td>\n      <td>0.806437</td>\n      <td>1.702089</td>\n    </tr>\n    <tr>\n      <th>r2</th>\n      <td>57841.0</td>\n      <td>2.267242e-17</td>\n      <td>1.000009</td>\n      <td>-4.424461e-01</td>\n      <td>-0.425341</td>\n      <td>-0.403959</td>\n      <td>-0.232906</td>\n      <td>3.829597</td>\n    </tr>\n    <tr>\n      <th>frac</th>\n      <td>57841.0</td>\n      <td>6.800014e-15</td>\n      <td>1.000009</td>\n      <td>-1.492678e+00</td>\n      <td>-1.001370</td>\n      <td>-0.018754</td>\n      <td>0.963861</td>\n      <td>1.586184</td>\n    </tr>\n    <tr>\n      <th>Nc</th>\n      <td>57841.0</td>\n      <td>1.270110e-15</td>\n      <td>1.000009</td>\n      <td>-5.590365e-01</td>\n      <td>-0.378251</td>\n      <td>-0.308034</td>\n      <td>-0.089611</td>\n      <td>14.444343</td>\n    </tr>\n    <tr>\n      <th>Nc Std. Dev</th>\n      <td>57841.0</td>\n      <td>1.534408e-02</td>\n      <td>0.029638</td>\n      <td>1.055250e-03</td>\n      <td>0.005530</td>\n      <td>0.007528</td>\n      <td>0.012261</td>\n      <td>0.822712</td>\n    </tr>\n    <tr>\n      <th>eta c</th>\n      <td>57841.0</td>\n      <td>4.291406e-16</td>\n      <td>1.000009</td>\n      <td>-1.236784e+00</td>\n      <td>-0.906402</td>\n      <td>-0.104892</td>\n      <td>0.645064</td>\n      <td>3.285683</td>\n    </tr>\n    <tr>\n      <th>a1</th>\n      <td>57841.0</td>\n      <td>5.000000e-01</td>\n      <td>0.000000</td>\n      <td>5.000000e-01</td>\n      <td>0.500000</td>\n      <td>0.500000</td>\n      <td>0.500000</td>\n      <td>0.500000</td>\n    </tr>\n    <tr>\n      <th>b1</th>\n      <td>57841.0</td>\n      <td>-2.878904e+00</td>\n      <td>7.280559</td>\n      <td>-3.441664e+01</td>\n      <td>-1.396598</td>\n      <td>-1.208228</td>\n      <td>-1.148641</td>\n      <td>1.205318</td>\n    </tr>\n    <tr>\n      <th>a2</th>\n      <td>57841.0</td>\n      <td>1.542193e-16</td>\n      <td>0.500004</td>\n      <td>-6.267814e-01</td>\n      <td>-0.492434</td>\n      <td>-0.044608</td>\n      <td>0.403218</td>\n      <td>0.851044</td>\n    </tr>\n    <tr>\n      <th>b2</th>\n      <td>57841.0</td>\n      <td>-5.535940e-04</td>\n      <td>6.074734</td>\n      <td>-4.457962e+01</td>\n      <td>-1.090322</td>\n      <td>0.103831</td>\n      <td>1.287147</td>\n      <td>32.832221</td>\n    </tr>\n    <tr>\n      <th>area1</th>\n      <td>57841.0</td>\n      <td>1.287199e-01</td>\n      <td>0.186284</td>\n      <td>7.853982e-04</td>\n      <td>0.015708</td>\n      <td>0.078540</td>\n      <td>0.157080</td>\n      <td>0.785398</td>\n    </tr>\n    <tr>\n      <th>area2</th>\n      <td>57841.0</td>\n      <td>3.679010e-02</td>\n      <td>0.089663</td>\n      <td>7.853982e-08</td>\n      <td>0.000245</td>\n      <td>0.003927</td>\n      <td>0.031416</td>\n      <td>0.785398</td>\n    </tr>\n    <tr>\n      <th>TotalArea</th>\n      <td>57841.0</td>\n      <td>1.065212e-16</td>\n      <td>1.000009</td>\n      <td>-7.967905e-01</td>\n      <td>-0.670156</td>\n      <td>-0.325613</td>\n      <td>0.158672</td>\n      <td>6.797525</td>\n    </tr>\n    <tr>\n      <th>RatioTotalArea</th>\n      <td>57841.0</td>\n      <td>-5.059681e-16</td>\n      <td>1.000009</td>\n      <td>-6.621387e-01</td>\n      <td>-0.578017</td>\n      <td>-0.353228</td>\n      <td>0.118560</td>\n      <td>5.846071</td>\n    </tr>\n  </tbody>\n</table>\n</div>"
     },
     "metadata": {},
     "execution_count": 19
    }
   ],
   "source": [
    "from sklearn.preprocessing import StandardScaler\n",
    "\n",
    "scaled_dataset = dataset.copy()\n",
    "scaled_dataset['r1'] = StandardScaler().fit_transform(dataset['r1'].values.reshape(-1,1))\n",
    "scaled_dataset['r2'] = StandardScaler().fit_transform(dataset['r2'].values.reshape(-1,1))\n",
    "scaled_dataset['frac'] = StandardScaler().fit_transform(dataset['frac'].values.reshape(-1,1))\n",
    "scaled_dataset['2a2'] = StandardScaler().fit_transform(dataset['a2'].values.reshape(-1,1))\n",
    "scaled_dataset['eta c'] = StandardScaler().fit_transform(dataset['eta c'].values.reshape(-1,1))\n",
    "scaled_dataset['Nc'] = StandardScaler().fit_transform(dataset['Nc'].values.reshape(-1,1))\n",
    "\n",
    "#account for added features\n",
    "scaled_dataset[\"a1\"]=1/2\n",
    "scaled_dataset[\"b1\"]=scaled_dataset[\"a1\"]/scaled_dataset[\"r1\"]\n",
    "scaled_dataset[\"a2\"]=scaled_dataset[\"2a2\"]/2\n",
    "scaled_dataset[\"b2\"]=scaled_dataset[\"a2\"]/scaled_dataset[\"r2\"]\n",
    "dataset[\"area1\"]=dataset[\"a1\"]*dataset[\"b1\"]*np.pi\n",
    "dataset[\"area2\"]=dataset[\"a2\"]*dataset[\"b2\"]*np.pi\n",
    "scaled_dataset[\"TotalArea\"] = StandardScaler().fit_transform(dataset['TotalArea'].values.reshape(-1,1))\n",
    "scaled_dataset[\"RatioTotalArea\"] = StandardScaler().fit_transform(dataset['RatioTotalArea'].values.reshape(-1,1))\n",
    "\n",
    "scaled_dataset.describe().transpose()"
   ]
  },
  {
   "cell_type": "code",
   "execution_count": 20,
   "metadata": {},
   "outputs": [
    {
     "output_type": "execute_result",
     "data": {
      "text/plain": [
       "        r1       2a2        r2      frac        Nc  Nc Std. Dev     eta c  \\\n",
       "0 -0.43959  1.702089 -0.442446 -1.328909 -0.559009     0.002692  2.335983   \n",
       "1 -0.43959  1.702089 -0.442446 -0.673832 -0.558896     0.002047  2.341613   \n",
       "2 -0.43959  1.702089 -0.438170 -1.328909 -0.555619     0.003297  2.316959   \n",
       "3 -0.43959  1.702089 -0.438170 -0.673832 -0.548094     0.002845  2.259858   \n",
       "4 -0.43959  1.702089 -0.433893 -1.328909 -0.554816     0.002239  2.291701   \n",
       "\n",
       "    a1        b1        a2        b2     area1     area2  TotalArea  \\\n",
       "0  0.5 -1.137422  0.851044 -1.923498  0.785398  0.785398   6.797525   \n",
       "1  0.5 -1.137422  0.851044 -1.923498  0.785398  0.785398   6.797525   \n",
       "2  0.5 -1.137422  0.851044 -1.942271  0.785398  0.392699   4.897996   \n",
       "3  0.5 -1.137422  0.851044 -1.942271  0.785398  0.392699   4.897996   \n",
       "4  0.5 -1.137422  0.851044 -1.961413  0.785398  0.261799   4.264820   \n",
       "\n",
       "   RatioTotalArea  \n",
       "0        5.846071  \n",
       "1        5.846071  \n",
       "2        5.520644  \n",
       "3        4.869791  \n",
       "4        5.412169  "
      ],
      "text/html": "<div>\n<style scoped>\n    .dataframe tbody tr th:only-of-type {\n        vertical-align: middle;\n    }\n\n    .dataframe tbody tr th {\n        vertical-align: top;\n    }\n\n    .dataframe thead th {\n        text-align: right;\n    }\n</style>\n<table border=\"1\" class=\"dataframe\">\n  <thead>\n    <tr style=\"text-align: right;\">\n      <th></th>\n      <th>r1</th>\n      <th>2a2</th>\n      <th>r2</th>\n      <th>frac</th>\n      <th>Nc</th>\n      <th>Nc Std. Dev</th>\n      <th>eta c</th>\n      <th>a1</th>\n      <th>b1</th>\n      <th>a2</th>\n      <th>b2</th>\n      <th>area1</th>\n      <th>area2</th>\n      <th>TotalArea</th>\n      <th>RatioTotalArea</th>\n    </tr>\n  </thead>\n  <tbody>\n    <tr>\n      <th>0</th>\n      <td>-0.43959</td>\n      <td>1.702089</td>\n      <td>-0.442446</td>\n      <td>-1.328909</td>\n      <td>-0.559009</td>\n      <td>0.002692</td>\n      <td>2.335983</td>\n      <td>0.5</td>\n      <td>-1.137422</td>\n      <td>0.851044</td>\n      <td>-1.923498</td>\n      <td>0.785398</td>\n      <td>0.785398</td>\n      <td>6.797525</td>\n      <td>5.846071</td>\n    </tr>\n    <tr>\n      <th>1</th>\n      <td>-0.43959</td>\n      <td>1.702089</td>\n      <td>-0.442446</td>\n      <td>-0.673832</td>\n      <td>-0.558896</td>\n      <td>0.002047</td>\n      <td>2.341613</td>\n      <td>0.5</td>\n      <td>-1.137422</td>\n      <td>0.851044</td>\n      <td>-1.923498</td>\n      <td>0.785398</td>\n      <td>0.785398</td>\n      <td>6.797525</td>\n      <td>5.846071</td>\n    </tr>\n    <tr>\n      <th>2</th>\n      <td>-0.43959</td>\n      <td>1.702089</td>\n      <td>-0.438170</td>\n      <td>-1.328909</td>\n      <td>-0.555619</td>\n      <td>0.003297</td>\n      <td>2.316959</td>\n      <td>0.5</td>\n      <td>-1.137422</td>\n      <td>0.851044</td>\n      <td>-1.942271</td>\n      <td>0.785398</td>\n      <td>0.392699</td>\n      <td>4.897996</td>\n      <td>5.520644</td>\n    </tr>\n    <tr>\n      <th>3</th>\n      <td>-0.43959</td>\n      <td>1.702089</td>\n      <td>-0.438170</td>\n      <td>-0.673832</td>\n      <td>-0.548094</td>\n      <td>0.002845</td>\n      <td>2.259858</td>\n      <td>0.5</td>\n      <td>-1.137422</td>\n      <td>0.851044</td>\n      <td>-1.942271</td>\n      <td>0.785398</td>\n      <td>0.392699</td>\n      <td>4.897996</td>\n      <td>4.869791</td>\n    </tr>\n    <tr>\n      <th>4</th>\n      <td>-0.43959</td>\n      <td>1.702089</td>\n      <td>-0.433893</td>\n      <td>-1.328909</td>\n      <td>-0.554816</td>\n      <td>0.002239</td>\n      <td>2.291701</td>\n      <td>0.5</td>\n      <td>-1.137422</td>\n      <td>0.851044</td>\n      <td>-1.961413</td>\n      <td>0.785398</td>\n      <td>0.261799</td>\n      <td>4.264820</td>\n      <td>5.412169</td>\n    </tr>\n  </tbody>\n</table>\n</div>"
     },
     "metadata": {},
     "execution_count": 20
    }
   ],
   "source": [
    "scaled_dataset.head()"
   ]
  },
  {
   "source": [
    "We can visualise the (original) features and targets again to understand the scaling."
   ],
   "cell_type": "markdown",
   "metadata": {}
  },
  {
   "cell_type": "code",
   "execution_count": 21,
   "metadata": {},
   "outputs": [],
   "source": [
    "# fig, axs = plt.subplots(ncols=2, figsize=(12,6))\n",
    "# sns.distplot(scaled_dataset[\"eta c\"], color='red', bins=100, ax=axs[0])\n",
    "# sns.distplot(scaled_dataset[\"Nc\"], color='red', bins=100, ax=axs[1])\n",
    "# fig.savefig(\"scaled_labels.png\")\n",
    "\n",
    "# fig, axs = plt.subplots(ncols=2, figsize=(12,6))\n",
    "# sns.distplot(scaled_dataset[\"r1\"], color='red', bins=1000, ax=axs[0])\n",
    "# sns.distplot(scaled_dataset[\"r2\"], color='red', bins=1000, ax=axs[1])\n",
    "# fig.savefig(\"scaled_r_features.png\")\n",
    "\n",
    "# fig, axs = plt.subplots(ncols=2, figsize=(12,6))\n",
    "# sns.distplot(scaled_dataset[\"frac\"], color='red', bins=100, ax=axs[0])\n",
    "# sns.distplot(scaled_dataset[\"a2\"], color='red', bins=100, ax=axs[1])\n",
    "# fig.savefig(\"scaled_frac_a2.png\")\n",
    "\n",
    "# fig, axs = plt.subplots(ncols=2, figsize=(12,6))\n",
    "# sns.distplot(scaled_dataset[\"area1\"], color='red', bins=100, ax=axs[0])\n",
    "# sns.distplot(scaled_dataset[\"area2\"], color='red', bins=100, ax=axs[1])\n",
    "# fig.savefig(\"imgs/scaled_areas.png\")"
   ]
  },
  {
   "source": [
    "The scaled data.\n",
    "\n",
    "![scaled_r](imgs/scaled_r_features.png)\n",
    "![scaled_frac](imgs/scaled_frac_a2.png)\n",
    "![scaled_labels](imgs/scaled_labels.png)\n",
    "![scaled_areas](imgs/scaled_areas.png)"
   ],
   "cell_type": "markdown",
   "metadata": {}
  },
  {
   "source": [
    "Here you can clearly see that r1 and r2 have a bias with large outliers. frac and a2 have pretty uniform distributions and can be handled pretty easily by ommiting samples at the lower and higher end. For now I do not think this is necessary because the difference in the number of samples is not huge and will effect the other distributions. eta c still looks like a better label, with a smaller range, fewer outliers and less of a bias than Nc. The area values are positive and kept between 0 and 1 making them a possible set of inputs alongside the fractions. This would give the input feature vector as {area1,area2,frac} and labels as given.\n",
    "\n",
    "We can look at the covariance matrix of the data, but we know that they were slected relatively independantley. The pairplot and covariance matrix will allow us to check for any easyier representations of the data. "
   ],
   "cell_type": "markdown",
   "metadata": {}
  },
  {
   "cell_type": "code",
   "execution_count": 22,
   "metadata": {},
   "outputs": [
    {
     "output_type": "execute_result",
     "data": {
      "text/plain": [
       "                      r1       2a2            r2      frac        Nc  \\\n",
       "r1              1.000017 -0.001121 -9.024333e-05 -0.008084  0.035187   \n",
       "2a2            -0.001121  1.000017  1.822710e-04  0.002518 -0.334472   \n",
       "r2             -0.000090  0.000182  1.000017e+00 -0.000197  0.012111   \n",
       "frac           -0.008084  0.002518 -1.971446e-04  1.000017  0.457026   \n",
       "Nc              0.035187 -0.334472  1.211080e-02  0.457026  1.000017   \n",
       "Nc Std. Dev     0.000189 -0.009139  2.837147e-04  0.011455  0.027797   \n",
       "eta c          -0.372151  0.019714 -1.167498e-01  0.047311 -0.071311   \n",
       "a1              0.000000  0.000000  0.000000e+00  0.000000  0.000000   \n",
       "b1              0.500009  0.002265 -3.693916e-04  0.033879 -0.122349   \n",
       "a2             -0.000560  0.500009  9.113552e-05  0.001259 -0.167236   \n",
       "b2              0.002411 -2.467733  6.375721e-17 -0.006920  0.812689   \n",
       "area1          -0.053765  0.000041 -1.314669e-06  0.007585 -0.009109   \n",
       "area2          -0.000038  0.039038 -1.543775e-02  0.000092 -0.014225   \n",
       "TotalArea      -0.260253  0.189033 -7.468044e-02  0.037133 -0.112869   \n",
       "RatioTotalArea -0.212729  0.162966 -6.471998e-02 -0.218969 -0.254533   \n",
       "\n",
       "                Nc Std. Dev     eta c   a1         b1        a2            b2  \\\n",
       "r1                 0.000189 -0.372151  0.0   0.500009 -0.000560  2.410916e-03   \n",
       "2a2               -0.009139  0.019714  0.0   0.002265  0.500009 -2.467733e+00   \n",
       "r2                 0.000284 -0.116750  0.0  -0.000369  0.000091  6.375721e-17   \n",
       "frac               0.011455  0.047311  0.0   0.033879  0.001259 -6.920362e-03   \n",
       "Nc                 0.027797 -0.071311  0.0  -0.122349 -0.167236  8.126895e-01   \n",
       "Nc Std. Dev        0.000878  0.000055  0.0  -0.000663 -0.004570  2.252569e-02   \n",
       "eta c              0.000055  1.000017  0.0   1.348565  0.009857  1.884003e-01   \n",
       "a1                 0.000000  0.000000  0.0   0.000000  0.000000  0.000000e+00   \n",
       "b1                -0.000663  1.348565  0.0  53.006539  0.001133 -6.947519e-03   \n",
       "a2                -0.004570  0.009857  0.0   0.001133  0.250004 -1.233866e+00   \n",
       "b2                 0.022526  0.188400  0.0  -0.006948 -1.233866  3.690239e+01   \n",
       "area1              0.000114  0.141826  0.0   0.203712  0.000021 -1.031795e-04   \n",
       "area2             -0.000353  0.025902  0.0   0.000086  0.019519 -4.952228e-02   \n",
       "TotalArea         -0.001157  0.811320  0.0   0.985793  0.094517 -2.400438e-01   \n",
       "RatioTotalArea    -0.005861  0.762428  0.0   0.803926  0.081483 -2.053400e-01   \n",
       "\n",
       "                       area1         area2  TotalArea  RatioTotalArea  \n",
       "r1             -5.376546e-02 -3.794519e-05  -0.260253       -0.212729  \n",
       "2a2             4.133497e-05  3.903841e-02   0.189033        0.162966  \n",
       "r2             -1.314669e-06 -1.543775e-02  -0.074680       -0.064720  \n",
       "frac            7.584916e-03  9.187256e-05   0.037133       -0.218969  \n",
       "Nc             -9.108798e-03 -1.422518e-02  -0.112869       -0.254533  \n",
       "Nc Std. Dev     1.142194e-04 -3.534956e-04  -0.001157       -0.005861  \n",
       "eta c           1.418262e-01  2.590205e-02   0.811320        0.762428  \n",
       "a1              0.000000e+00  0.000000e+00   0.000000        0.000000  \n",
       "b1              2.037121e-01  8.591194e-05   0.985793        0.803926  \n",
       "a2              2.066748e-05  1.951921e-02   0.094517        0.081483  \n",
       "b2             -1.031795e-04 -4.952228e-02  -0.240044       -0.205340  \n",
       "area1           3.470186e-02 -5.686280e-07   0.167854        0.132662  \n",
       "area2          -5.686280e-07  8.039381e-03   0.038885        0.033714  \n",
       "TotalArea       1.678540e-01  3.888462e-02   1.000017        0.804777  \n",
       "RatioTotalArea  1.326617e-01  3.371384e-02   0.804777        1.000017  "
      ],
      "text/html": "<div>\n<style scoped>\n    .dataframe tbody tr th:only-of-type {\n        vertical-align: middle;\n    }\n\n    .dataframe tbody tr th {\n        vertical-align: top;\n    }\n\n    .dataframe thead th {\n        text-align: right;\n    }\n</style>\n<table border=\"1\" class=\"dataframe\">\n  <thead>\n    <tr style=\"text-align: right;\">\n      <th></th>\n      <th>r1</th>\n      <th>2a2</th>\n      <th>r2</th>\n      <th>frac</th>\n      <th>Nc</th>\n      <th>Nc Std. Dev</th>\n      <th>eta c</th>\n      <th>a1</th>\n      <th>b1</th>\n      <th>a2</th>\n      <th>b2</th>\n      <th>area1</th>\n      <th>area2</th>\n      <th>TotalArea</th>\n      <th>RatioTotalArea</th>\n    </tr>\n  </thead>\n  <tbody>\n    <tr>\n      <th>r1</th>\n      <td>1.000017</td>\n      <td>-0.001121</td>\n      <td>-9.024333e-05</td>\n      <td>-0.008084</td>\n      <td>0.035187</td>\n      <td>0.000189</td>\n      <td>-0.372151</td>\n      <td>0.0</td>\n      <td>0.500009</td>\n      <td>-0.000560</td>\n      <td>2.410916e-03</td>\n      <td>-5.376546e-02</td>\n      <td>-3.794519e-05</td>\n      <td>-0.260253</td>\n      <td>-0.212729</td>\n    </tr>\n    <tr>\n      <th>2a2</th>\n      <td>-0.001121</td>\n      <td>1.000017</td>\n      <td>1.822710e-04</td>\n      <td>0.002518</td>\n      <td>-0.334472</td>\n      <td>-0.009139</td>\n      <td>0.019714</td>\n      <td>0.0</td>\n      <td>0.002265</td>\n      <td>0.500009</td>\n      <td>-2.467733e+00</td>\n      <td>4.133497e-05</td>\n      <td>3.903841e-02</td>\n      <td>0.189033</td>\n      <td>0.162966</td>\n    </tr>\n    <tr>\n      <th>r2</th>\n      <td>-0.000090</td>\n      <td>0.000182</td>\n      <td>1.000017e+00</td>\n      <td>-0.000197</td>\n      <td>0.012111</td>\n      <td>0.000284</td>\n      <td>-0.116750</td>\n      <td>0.0</td>\n      <td>-0.000369</td>\n      <td>0.000091</td>\n      <td>6.375721e-17</td>\n      <td>-1.314669e-06</td>\n      <td>-1.543775e-02</td>\n      <td>-0.074680</td>\n      <td>-0.064720</td>\n    </tr>\n    <tr>\n      <th>frac</th>\n      <td>-0.008084</td>\n      <td>0.002518</td>\n      <td>-1.971446e-04</td>\n      <td>1.000017</td>\n      <td>0.457026</td>\n      <td>0.011455</td>\n      <td>0.047311</td>\n      <td>0.0</td>\n      <td>0.033879</td>\n      <td>0.001259</td>\n      <td>-6.920362e-03</td>\n      <td>7.584916e-03</td>\n      <td>9.187256e-05</td>\n      <td>0.037133</td>\n      <td>-0.218969</td>\n    </tr>\n    <tr>\n      <th>Nc</th>\n      <td>0.035187</td>\n      <td>-0.334472</td>\n      <td>1.211080e-02</td>\n      <td>0.457026</td>\n      <td>1.000017</td>\n      <td>0.027797</td>\n      <td>-0.071311</td>\n      <td>0.0</td>\n      <td>-0.122349</td>\n      <td>-0.167236</td>\n      <td>8.126895e-01</td>\n      <td>-9.108798e-03</td>\n      <td>-1.422518e-02</td>\n      <td>-0.112869</td>\n      <td>-0.254533</td>\n    </tr>\n    <tr>\n      <th>Nc Std. Dev</th>\n      <td>0.000189</td>\n      <td>-0.009139</td>\n      <td>2.837147e-04</td>\n      <td>0.011455</td>\n      <td>0.027797</td>\n      <td>0.000878</td>\n      <td>0.000055</td>\n      <td>0.0</td>\n      <td>-0.000663</td>\n      <td>-0.004570</td>\n      <td>2.252569e-02</td>\n      <td>1.142194e-04</td>\n      <td>-3.534956e-04</td>\n      <td>-0.001157</td>\n      <td>-0.005861</td>\n    </tr>\n    <tr>\n      <th>eta c</th>\n      <td>-0.372151</td>\n      <td>0.019714</td>\n      <td>-1.167498e-01</td>\n      <td>0.047311</td>\n      <td>-0.071311</td>\n      <td>0.000055</td>\n      <td>1.000017</td>\n      <td>0.0</td>\n      <td>1.348565</td>\n      <td>0.009857</td>\n      <td>1.884003e-01</td>\n      <td>1.418262e-01</td>\n      <td>2.590205e-02</td>\n      <td>0.811320</td>\n      <td>0.762428</td>\n    </tr>\n    <tr>\n      <th>a1</th>\n      <td>0.000000</td>\n      <td>0.000000</td>\n      <td>0.000000e+00</td>\n      <td>0.000000</td>\n      <td>0.000000</td>\n      <td>0.000000</td>\n      <td>0.000000</td>\n      <td>0.0</td>\n      <td>0.000000</td>\n      <td>0.000000</td>\n      <td>0.000000e+00</td>\n      <td>0.000000e+00</td>\n      <td>0.000000e+00</td>\n      <td>0.000000</td>\n      <td>0.000000</td>\n    </tr>\n    <tr>\n      <th>b1</th>\n      <td>0.500009</td>\n      <td>0.002265</td>\n      <td>-3.693916e-04</td>\n      <td>0.033879</td>\n      <td>-0.122349</td>\n      <td>-0.000663</td>\n      <td>1.348565</td>\n      <td>0.0</td>\n      <td>53.006539</td>\n      <td>0.001133</td>\n      <td>-6.947519e-03</td>\n      <td>2.037121e-01</td>\n      <td>8.591194e-05</td>\n      <td>0.985793</td>\n      <td>0.803926</td>\n    </tr>\n    <tr>\n      <th>a2</th>\n      <td>-0.000560</td>\n      <td>0.500009</td>\n      <td>9.113552e-05</td>\n      <td>0.001259</td>\n      <td>-0.167236</td>\n      <td>-0.004570</td>\n      <td>0.009857</td>\n      <td>0.0</td>\n      <td>0.001133</td>\n      <td>0.250004</td>\n      <td>-1.233866e+00</td>\n      <td>2.066748e-05</td>\n      <td>1.951921e-02</td>\n      <td>0.094517</td>\n      <td>0.081483</td>\n    </tr>\n    <tr>\n      <th>b2</th>\n      <td>0.002411</td>\n      <td>-2.467733</td>\n      <td>6.375721e-17</td>\n      <td>-0.006920</td>\n      <td>0.812689</td>\n      <td>0.022526</td>\n      <td>0.188400</td>\n      <td>0.0</td>\n      <td>-0.006948</td>\n      <td>-1.233866</td>\n      <td>3.690239e+01</td>\n      <td>-1.031795e-04</td>\n      <td>-4.952228e-02</td>\n      <td>-0.240044</td>\n      <td>-0.205340</td>\n    </tr>\n    <tr>\n      <th>area1</th>\n      <td>-0.053765</td>\n      <td>0.000041</td>\n      <td>-1.314669e-06</td>\n      <td>0.007585</td>\n      <td>-0.009109</td>\n      <td>0.000114</td>\n      <td>0.141826</td>\n      <td>0.0</td>\n      <td>0.203712</td>\n      <td>0.000021</td>\n      <td>-1.031795e-04</td>\n      <td>3.470186e-02</td>\n      <td>-5.686280e-07</td>\n      <td>0.167854</td>\n      <td>0.132662</td>\n    </tr>\n    <tr>\n      <th>area2</th>\n      <td>-0.000038</td>\n      <td>0.039038</td>\n      <td>-1.543775e-02</td>\n      <td>0.000092</td>\n      <td>-0.014225</td>\n      <td>-0.000353</td>\n      <td>0.025902</td>\n      <td>0.0</td>\n      <td>0.000086</td>\n      <td>0.019519</td>\n      <td>-4.952228e-02</td>\n      <td>-5.686280e-07</td>\n      <td>8.039381e-03</td>\n      <td>0.038885</td>\n      <td>0.033714</td>\n    </tr>\n    <tr>\n      <th>TotalArea</th>\n      <td>-0.260253</td>\n      <td>0.189033</td>\n      <td>-7.468044e-02</td>\n      <td>0.037133</td>\n      <td>-0.112869</td>\n      <td>-0.001157</td>\n      <td>0.811320</td>\n      <td>0.0</td>\n      <td>0.985793</td>\n      <td>0.094517</td>\n      <td>-2.400438e-01</td>\n      <td>1.678540e-01</td>\n      <td>3.888462e-02</td>\n      <td>1.000017</td>\n      <td>0.804777</td>\n    </tr>\n    <tr>\n      <th>RatioTotalArea</th>\n      <td>-0.212729</td>\n      <td>0.162966</td>\n      <td>-6.471998e-02</td>\n      <td>-0.218969</td>\n      <td>-0.254533</td>\n      <td>-0.005861</td>\n      <td>0.762428</td>\n      <td>0.0</td>\n      <td>0.803926</td>\n      <td>0.081483</td>\n      <td>-2.053400e-01</td>\n      <td>1.326617e-01</td>\n      <td>3.371384e-02</td>\n      <td>0.804777</td>\n      <td>1.000017</td>\n    </tr>\n  </tbody>\n</table>\n</div>"
     },
     "metadata": {},
     "execution_count": 22
    }
   ],
   "source": [
    "scaled_dataset.cov()"
   ]
  },
  {
   "cell_type": "code",
   "execution_count": 23,
   "metadata": {},
   "outputs": [],
   "source": [
    "# C_mat = scaled_dataset.corr()\n",
    "# fig = plt.figure(figsize = (15,15))\n",
    "\n",
    "# sns.heatmap(C_mat, vmax = .8, square = True)\n",
    "# fig.savefig(\"imgs/corr_map.png\")\n",
    "# plt.show()"
   ]
  },
  {
   "source": [
    "From the orginal data, eta c seems to have a negative linear tendency with r1, r2 and 2a2, however its relationship with 2a2 is weak. From the expanded data you can see the strongest correlation with b1, followed by the TotalArea and RatioTotalArea. If we use b1, we will have to use a2/2a2, and b2 with frac in the input space. However, the axis have weak correlations with eta c. If we look at the total area, we see a stong correlation with eta c. This may indicate a good input variable to use. Options can include:\n",
    "- {frac, TotalArea}\n",
    "- {RatioTotalArea}\n",
    "- {TotalArea}\n",
    "- {frac, RatioTotalArea}\n",
    "\n",
    "RatioTotalArea has the frac encoded into it while total area does not. It is probably more advisable to use {frac, RatioTotalArea}. I would choose this because there is a strong correlation, RatioTotalArea has area1 and area2 and, thus, r1 and r2 encoded in it. It also has frac, but I may think that having frac explicitly defined in the input is better.  "
   ],
   "cell_type": "markdown",
   "metadata": {}
  },
  {
   "source": [
    "## Checking the Areas\n",
    "We will look at a total area and fractional-added total area columns. The data below shows some kind of shape with eta c and the 2 values. This is interesting and may show that using this in the model is useful. "
   ],
   "cell_type": "markdown",
   "metadata": {}
  },
  {
   "cell_type": "code",
   "execution_count": null,
   "metadata": {},
   "outputs": [],
   "source": [
    "# fig=sns.pairplot(scaled_dataset[['TotalArea', 'RatioTotalArea', 'eta c']], diag_kind='kde')\n",
    "# fig.savefig(\"imgs/totalareas_pairplot.png\")"
   ]
  },
  {
   "source": [
    "Pairplot of areas, areas including frac and eta c.\n",
    "\n",
    "![total_areas](imgs/totalareas_pairplot.png)"
   ],
   "cell_type": "markdown",
   "metadata": {}
  },
  {
   "source": [
    "## r1 = r2\n",
    "\n",
    "Here we will look at keeping some variables constant or in a range. For instance, we can keep the frac constant and see how eta c varies with the RatioTotalArea. Another option could be keeping r1 and r2 constant and plotting eta c vs 2 other variables.\n",
    "\n",
    "We notice similar surfaces when we keep r1 and r2 the same and we notice similar surfaces when r1 and r2 are differet. Could this indicate 2 models? "
   ],
   "cell_type": "markdown",
   "metadata": {}
  },
  {
   "cell_type": "code",
   "execution_count": null,
   "metadata": {},
   "outputs": [],
   "source": [
    "# select the data according to some criterion or criteria\n",
    "val = 500\n",
    "selection_dataset = dataset.copy()\n",
    "select_1 = selection_dataset[dataset[\"frac\"]<2]\n",
    "select_2 = select_1[select_1[\"r2\"]==val]\n",
    "select_3 = select_2[select_2[\"r1\"]==val]\n",
    "final_selection = select_3.copy()\n",
    "\n",
    "#__________________________________________________________________________________________________________________________________________________________________________________________________________________\n",
    "# scale the data\n",
    "final_selection['r1'] = StandardScaler().fit_transform(final_selection['r1'].values.reshape(-1,1))\n",
    "final_selection['r2'] = StandardScaler().fit_transform(final_selection['r2'].values.reshape(-1,1))\n",
    "final_selection['frac'] = StandardScaler().fit_transform(final_selection['frac'].values.reshape(-1,1))\n",
    "final_selection['2a2'] = StandardScaler().fit_transform(final_selection['a2'].values.reshape(-1,1))\n",
    "final_selection['eta c'] = StandardScaler().fit_transform(final_selection['eta c'].values.reshape(-1,1))\n",
    "final_selection['Nc'] = StandardScaler().fit_transform(final_selection['Nc'].values.reshape(-1,1))\n",
    "\n",
    "#account for added features\n",
    "final_selection['a1'] = StandardScaler().fit_transform(final_selection['a1'].values.reshape(-1,1))\n",
    "final_selection['a2'] = StandardScaler().fit_transform(final_selection['b1'].values.reshape(-1,1))\n",
    "final_selection['a2'] = StandardScaler().fit_transform(final_selection['a2'].values.reshape(-1,1))\n",
    "final_selection['b2'] = StandardScaler().fit_transform(final_selection['b2'].values.reshape(-1,1))\n",
    "final_selection['area1'] = StandardScaler().fit_transform(final_selection['area1'].values.reshape(-1,1))\n",
    "final_selection['area2'] = StandardScaler().fit_transform(final_selection['area2'].values.reshape(-1,1))\n",
    "final_selection[\"TotalArea\"] = StandardScaler().fit_transform(final_selection['TotalArea'].values.reshape(-1,1))\n",
    "final_selection[\"RatioTotalArea\"] = StandardScaler().fit_transform(final_selection['RatioTotalArea'].values.reshape(-1,1))\n",
    "\n",
    "#__________________________________________________________________________________________________________________________________________________________________________________________________________________\n",
    "xaxis_label = \"RatioTotalArea\"\n",
    "yaxis_label = \"eta c\"\n",
    "\n",
    "title = \"Comparing {x} and {y}\".format(x=xaxis_label, y=yaxis_label)\n",
    "# plt.scatter(x=np.arange(len(final_selection)), y=final_selection[yaxis_label], marker='.')\n",
    "fig = plt.figure(figsize=(10,10))\n",
    "plt.scatter(x=final_selection[xaxis_label], y=final_selection[yaxis_label], marker='.')\n",
    "plt.ylabel(yaxis_label)\n",
    "plt.xlabel(xaxis_label)\n",
    "plt.title(title)\n",
    "# fig.savefig(\"imgs/edited_data/r1_r2_{}.png\".format(val))"
   ]
  },
  {
   "cell_type": "code",
   "execution_count": null,
   "metadata": {},
   "outputs": [],
   "source": [
    "fig = plt.figure(figsize=(10,10))\n",
    "ax = plt.axes(projection='3d')\n",
    "\n",
    "z = \"eta c\"\n",
    "y = \"frac\"\n",
    "x = \"2a2\"\n",
    "\n",
    "zdata =  select_3[z]\n",
    "ydata =  select_3[y]\n",
    "xdata = select_3[x]\n",
    "# ax.scatter3D(xdata, ydata, zdata, c=zdata, cmap='Reds');\n",
    "# ax.plot3D(xdata, ydata, zdata, 'gray')\n",
    "ax.scatter3D(xdata, ydata, zdata);\n",
    "plt.ylabel(y)\n",
    "plt.xlabel(x)\n",
    "# fig.savefig(\"imgs/edited_data/3d_r1_r2_{}.png\".format(val))\n",
    "# plt.zlabel(\"eta c\")"
   ]
  },
  {
   "source": [
    "After plotting the data with r1=r2 you can see similar shapes in the 3d plots were {x,y,z}={2a2,frac,eta c}. This is encouraging because it shows that for the data where r1 and r2 are equal, we can create a ML algo to learn that 3D shape, hopefully producing the correct eta c output. Similarly, if you plot {x,y}={RatioTotalArea, eta c} you can similar curves for each r1=r2 pair. The data may be slightly differently spread, but this is okay. Possibly doing a 3D surface like for the other will allow a surface ot be learnt, however, the {x,y,z}={2a2,frac,eta c} plot shows that this may be irrelevant for the r1=r2 values, because we can learn from the given data without need for the expanded data. Now we need to check for the data where r1!=r2. Previously I looked at it and a simialr shape could be seen (but with more fluctation between the values). However, I cannot remember if the shape was simialr to the r1=r2 shape. We will check these below. \n",
    "\n",
    "The 3D curve shows how eta c varies with 2a2 and frac. Out of the entire data set, r1=r2 accounts for 2892 of 57840, or 5%. "
   ],
   "cell_type": "markdown",
   "metadata": {}
  },
  {
   "cell_type": "code",
   "execution_count": null,
   "metadata": {},
   "outputs": [],
   "source": [
    "# r1_new_range = single_input_vs_output(final_selection, \"r1\")\n",
    "dataset[dataset[\"r1\"]< dataset[\"r2\"]].count()\n",
    "# dataset[dataset[\"r1\"]<150].count()[\"r1\"]"
   ]
  },
  {
   "source": [
    "## r1 != r2\n",
    "Here, we will do a similar thing to above but for the majority of the data were r1 != r2. We will not look at all of the data, but rather 4 from each. \n",
    "\n",
    "After plotting the data for this,some similar shapes were seen both within a set and across sets with similar r2 values. "
   ],
   "cell_type": "markdown",
   "metadata": {}
  },
  {
   "cell_type": "code",
   "execution_count": null,
   "metadata": {},
   "outputs": [],
   "source": [
    "x = [1,2,3,4]\n",
    "y = [5,10,15,20]\n",
    "z = [2, 6, 4, 8]\n",
    "colors = ['blue', 'green', 'magenta', 'orange']\n",
    "colour_selector = 0\n",
    "\n",
    "fig = plt.figure(figsize=(4,4))\n",
    "ax = plt.axes(projection='3d')\n",
    "for i in range(0, len(x)):\n",
    "    ax.scatter3D(x[i], y[i], z[i], c=colors[colour_selector])\n",
    "    colour_selector+=1"
   ]
  },
  {
   "cell_type": "code",
   "execution_count": null,
   "metadata": {},
   "outputs": [],
   "source": [
    "plt.ioff()\n",
    "\n",
    "colors = ['blue', 'green', 'magenta', 'orange']\n",
    "# colors = ['green', 'blue', 'orange', 'magenta']\n",
    "\n",
    "ii_prev = -1\n",
    "choose_set = -1\n",
    "# this loop runs for each r1, giving r1=x and r2=[x1,x2,x3,x4]\n",
    "for ii in range(0,20):\n",
    "    fig = plt.figure(figsize=(10,10))\n",
    "    ax = plt.axes(projection='3d')\n",
    "    z = \"eta c\"\n",
    "    y = \"frac\"\n",
    "    x = \"2a2\"\n",
    "    # selector needs to go from 0-19 (20 values in r1_range)\n",
    "    if ii_prev==4:\n",
    "        choose_set = 0\n",
    "    else:\n",
    "        choose_set += 1\n",
    "    ii_prev = choose_set\n",
    "\n",
    "    selector = np.arange(5,21,5)-choose_set-1     # gives [5,10,15,20] - choose_set\n",
    "\n",
    "    colour_selector = 0\n",
    "    for i in selector:\n",
    "        # selects the r1 value \n",
    "        val = (r1_range[\"r1\"].to_numpy())[ii] \n",
    "        val2 = (r2_range[\"r2\"].to_numpy())[i]\n",
    "\n",
    "        # selects the data sets\n",
    "        selection_dataset = dataset.copy()\n",
    "        # filters the data to the chosen r1 value (outer loop)\n",
    "        select_1 = selection_dataset[selection_dataset[\"r1\"]==val]\n",
    "        # filters the data to the chosen r2 value (inner loop, so 1 of 4)\n",
    "        select_2 = select_1[select_1[\"r2\"]==val2]\n",
    "        \n",
    "        final_selection = select_2\n",
    "        # scale the data\n",
    "        final_selection['r1'] = StandardScaler().fit_transform(final_selection['r1'].values.reshape(-1,1))\n",
    "        final_selection['r2'] = StandardScaler().fit_transform(final_selection['r2'].values.reshape(-1,1))\n",
    "        final_selection['frac'] = StandardScaler().fit_transform(final_selection['frac'].values.reshape(-1,1))\n",
    "        final_selection['2a2'] = StandardScaler().fit_transform(final_selection['a2'].values.reshape(-1,1))\n",
    "        final_selection['eta c'] = StandardScaler().fit_transform(final_selection['eta c'].values.reshape(-1,1))\n",
    "\n",
    "        # plots the data for each \n",
    "        zdata =  final_selection[z]\n",
    "        ydata =  final_selection[y]\n",
    "        xdata = final_selection[x]\n",
    "        ax.scatter3D(xdata, ydata, zdata, c=colors[colour_selector-1])\n",
    "        colour_selector+=1\n",
    "    \n",
    "    title = \"Comparing r1={x} and r2={y}\".format(x=val, y=str(selector))\n",
    "    plt.ylabel(y)\n",
    "    plt.xlabel(x)\n",
    "    plt.title(title)\n",
    "    fig.savefig(\"/media/nirav/34E0-F309/KTH/Thesis/edited_data/diff r1 and r2/r1_{x}.png\".format(x=val))\n",
    "    plt.close(fig)\n",
    "    # plt.zlabel(\"eta c\")"
   ]
  },
  {
   "source": [
    "## RatioTotalArea and frac\n",
    "Here we will plot the RatioTotalArea vs eta c for different frac. Thus, {x,y,z} = {RatioTotalArea,frac,eta c}. We will select the data depending on the frarc values and plot the area vs eta c."
   ],
   "cell_type": "markdown",
   "metadata": {}
  },
  {
   "cell_type": "code",
   "execution_count": null,
   "metadata": {},
   "outputs": [],
   "source": [
    "frac_values = [1,3,5,7,9]\n",
    "ls = []\n",
    "for i in frac_values:\n",
    "    ls.append((frac_range[\"frac\"].to_numpy()[i]))\n",
    "\n",
    "colors = ['blue', 'green', 'magenta', 'orange', 'red']\n",
    "colour_selector = 0\n",
    "fig = plt.figure()\n",
    "fig, ax = plt.subplots(nrows=2, ncols=3, figsize=(15,10))\n",
    "y = \"eta c\"\n",
    "x = \"RatioTotalArea\"\n",
    "for i in ls:\n",
    "    val = i\n",
    "\n",
    "    selection_dataset = dataset.copy()\n",
    "    select_1 = selection_dataset[selection_dataset[\"frac\"]==val]\n",
    "\n",
    "    final_selection = select_1\n",
    "    # scale the data   \n",
    "    final_selection['frac'] = StandardScaler().fit_transform(final_selection['frac'].values.reshape(-1,1))\n",
    "    final_selection['eta c'] = StandardScaler().fit_transform(final_selection['eta c'].values.reshape(-1,1))\n",
    "    final_selection['RatioTotalArea'] = StandardScaler().fit_transform(final_selection['RatioTotalArea'].values.reshape(-1,1))\n",
    "\n",
    "    xdata = \"RatioTotalArea\"\n",
    "    ydata = \"eta c\"\n",
    "    title = \"frac={frac_vals}\".format(frac_vals=val)\n",
    "\n",
    "    # uncomment next two lines to plot seperate and comment 'fig=...' above\n",
    "    # fig = plt.figure(figsize=(5,5))\n",
    "    # title = \"{x} vs {y} for frac={frac_vals}\".format(x=xdata, y=ydata, frac_vals=val)\n",
    "\n",
    "    # plots the data for each \n",
    "    # plt.scatter(x=final_selection[xdata], y=final_selection[ydata], marker='.', c=colors[colour_selector-1])\n",
    "    ax[int(colour_selector/3)][colour_selector%3].scatter(x=final_selection[xdata], y=final_selection[ydata], marker='.', c=colors[colour_selector-1])\n",
    "    ax[1][2].scatter(x=final_selection[xdata], y=final_selection[ydata], marker='.', c=colors[colour_selector-1], alpha=0.1)\n",
    "    # ax[int(colour_selector/3)][colour_selector%3].set_ylabel(ydata)\n",
    "    # ax[int(colour_selector/3)][colour_selector%3].set_xlabel(xdata)\n",
    "    ax[int(colour_selector/3)][colour_selector%3].set_title(title)\n",
    "    colour_selector+=1\n",
    "\n",
    "title = \"{x} vs {y} for frac={frac_vals}\".format(x=xdata, y=ydata, frac_vals=ls)\n",
    "ax[0][0].set_ylabel(ydata)\n",
    "ax[1][0].set_ylabel(ydata)\n",
    "ax[1][0].set_xlabel(xdata)\n",
    "ax[1][1].set_xlabel(xdata)\n",
    "ax[1][2].set_xlabel(xdata)\n",
    "ax[1][2].set_title(title)\n",
    "fig.savefig(\"/media/nirav/34E0-F309/KTH/Thesis/edited_data/RTA_diff_frac.png\")"
   ]
  },
  {
   "source": [
    "From this we can see the spread increases as the fraction is increases. If we use area, fraction is definitely important as well."
   ],
   "cell_type": "markdown",
   "metadata": {}
  },
  {
   "source": [
    "The data distribution is still not good for most, so it seems like using the area is our best bet for now. Going back to the pairplot, we can see that a lot of the data is clumped in the <0.5 area range for both ellipse 1 and 2. Maybe we can try splitting this and only including for the areas <0.5 and testing a trained model on this, to start. \n",
    "\n",
    "Doint this may reduce the dataset substantially because there is not correlation between the two."
   ],
   "cell_type": "markdown",
   "metadata": {}
  },
  {
   "cell_type": "code",
   "execution_count": null,
   "metadata": {},
   "outputs": [],
   "source": [
    "# drop_areas_scaled_dataset = scaled_dataset.copy()\n",
    "\n",
    "# drop_areas_scaled_dataset.drop(drop_areas_scaled_dataset[drop_areas_scaled_dataset.area1 > 0.55].index, inplace=True)\n",
    "# drop_areas_scaled_dataset.drop(drop_areas_scaled_dataset[drop_areas_scaled_dataset.area2 > 0.55].index, inplace=True)\n",
    "# drop_areas_scaled_dataset.describe().transpose()\n",
    "\n",
    "# fig, axs = plt.subplots(ncols=2, figsize=(12,6))\n",
    "# sns.distplot(drop_areas_scaled_dataset[\"area1\"], color='red', bins=100, ax=axs[0])\n",
    "# sns.distplot(drop_areas_scaled_dataset[\"area2\"], color='red', bins=100, ax=axs[1])"
   ]
  },
  {
   "source": [
    "## {r1, r2, frac, RatioTotalArea}\n",
    "\n",
    "So we have looked at r1=r2, r1!=r2 and the RatioTotalArea above. "
   ],
   "cell_type": "markdown",
   "metadata": {}
  },
  {
   "cell_type": "code",
   "execution_count": null,
   "metadata": {},
   "outputs": [],
   "source": []
  },
  {
   "source": [
    "## {b1, a2, b2, RatioTotalArea, frac}\n",
    "Here we will attempt to elucidate ourselves on how these inputs change eta c. RatioTotalArea will always be an output because it is dependant on the others. \n",
    "\n",
    "See other notebook."
   ],
   "cell_type": "markdown",
   "metadata": {}
  },
  {
   "source": [
    "## PCA\n",
    "\n",
    "Now we will implement PCA to try and reduce the number of input features. The total number of un expanded features is 4. With the expansion, we get 8. First we will try PCA on the 4, then the 8 and then maybe a selection of the features. For now the labels will be the nonstandardizedd 'eta c'. In the future we can possibly use both 'eta c' and 'Nc' or their scaled versions. "
   ],
   "cell_type": "markdown",
   "metadata": {}
  },
  {
   "cell_type": "code",
   "execution_count": null,
   "metadata": {},
   "outputs": [],
   "source": [
    "from sklearn.decomposition import PCA\n",
    "\n",
    "features = scaled_dataset.drop(['eta c', 'Nc', 'Nc Std. Dev', 'a1', 'b1', 'a2', 'b2'], axis=1)\n",
    "expanded_features = scaled_dataset.drop(['eta c', 'Nc', 'Nc Std. Dev',], axis=1)\n",
    "labels = scaled_dataset['eta c']\n",
    "\n",
    "components = 2\n",
    "components_cols = ['PC 1', 'PC 2']\n",
    "X = features\n",
    "Y = labels\n",
    "\n",
    "pca = PCA(n_components=components)\n",
    "pca_data = pca.fit_transform(X.values)\n",
    "\n",
    "principalDf = pd.DataFrame(data = pca_data, columns = components_cols)\n",
    "\n",
    "pcaDF = pd.concat([principalDf, Y], axis = 1)\n",
    "pcaDF.head()"
   ]
  },
  {
   "cell_type": "code",
   "execution_count": null,
   "metadata": {},
   "outputs": [],
   "source": [
    "# fig, axs = plt.subplots(ncols=1, figsize=(12,6))\n",
    "# sns.distplot(scaled_dataset[\"frac\"], color='red', bins=100, ax=axs[0])\n",
    "# sns.distplot(scaled_dataset[\"a2\"], color='red', bins=100, ax=axs[1])\n",
    "fig = sns.pairplot(pcaDF[['PC 1', 'PC 2', 'eta c']], diag_kind='kde')\n",
    "fig.savefig(\"imgs/PCA.png\")\n"
   ]
  },
  {
   "source": [
    "The PCA data has been plotted in a pair plot to see how the new components relate to the output. \n",
    "\n",
    "![pca](imgs/PCA.png)"
   ],
   "cell_type": "markdown",
   "metadata": {}
  },
  {
   "source": [
    "An attempt with 1 component."
   ],
   "cell_type": "markdown",
   "metadata": {}
  },
  {
   "cell_type": "code",
   "execution_count": null,
   "metadata": {},
   "outputs": [],
   "source": [
    "components = 1\n",
    "components_cols = ['PC 1']\n",
    "X = features\n",
    "Y = labels\n",
    "\n",
    "pca = PCA(n_components=components)\n",
    "pca_data = pca.fit_transform(X.values)\n",
    "\n",
    "principalDf = pd.DataFrame(data = pca_data, columns = components_cols)\n",
    "\n",
    "pcaDF = pd.concat([principalDf, Y], axis = 1)\n",
    "pcaDF.head()"
   ]
  },
  {
   "cell_type": "code",
   "execution_count": null,
   "metadata": {},
   "outputs": [],
   "source": [
    "fig = sns.pairplot(pcaDF[['PC 1', 'eta c']], diag_kind='kde')\n",
    "fig.savefig(\"OnePCA.png\")"
   ]
  },
  {
   "source": [
    "Lastly, we will store the dataframes to csv files to be used in other notebooks."
   ],
   "cell_type": "markdown",
   "metadata": {}
  },
  {
   "cell_type": "code",
   "execution_count": null,
   "metadata": {},
   "outputs": [],
   "source": [
    "scaled_dataset.to_csv(\"NormalizedData.csv\")"
   ]
  },
  {
   "cell_type": "code",
   "execution_count": null,
   "metadata": {},
   "outputs": [],
   "source": [
    "pcaDF.to_csv(\"PCA\")"
   ]
  },
  {
   "cell_type": "code",
   "execution_count": null,
   "metadata": {},
   "outputs": [],
   "source": []
  }
 ]
}